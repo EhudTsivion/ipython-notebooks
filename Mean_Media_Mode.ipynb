{
 "metadata": {
  "name": "",
  "signature": "sha256:a6eb6bdc640f77cd36c431c81ab087eff4afe4f731b378ce7cac9616ac123b9d"
 },
 "nbformat": 3,
 "nbformat_minor": 0,
 "worksheets": [
  {
   "cells": [
    {
     "cell_type": "code",
     "collapsed": false,
     "input": [
      "import numpy as np\n",
      "import matplotlib.pyplot as plt\n",
      "import pandas as pd"
     ],
     "language": "python",
     "metadata": {},
     "outputs": [],
     "prompt_number": 1
    },
    {
     "cell_type": "code",
     "collapsed": false,
     "input": [
      "%matplotlib inline"
     ],
     "language": "python",
     "metadata": {},
     "outputs": [],
     "prompt_number": 2
    },
    {
     "cell_type": "code",
     "collapsed": false,
     "input": [
      "n = 1000\n",
      "x = np.arange(n)\n",
      "y = np.random.rand(n)*100\n",
      "p = np.random.randint?"
     ],
     "language": "python",
     "metadata": {},
     "outputs": [],
     "prompt_number": 3
    },
    {
     "cell_type": "code",
     "collapsed": false,
     "input": [
      "p = np.random.randint"
     ],
     "language": "python",
     "metadata": {},
     "outputs": []
    },
    {
     "cell_type": "code",
     "collapsed": false,
     "input": [
      "p = np.random.randint(1,100,10)\n",
      "print p"
     ],
     "language": "python",
     "metadata": {},
     "outputs": [
      {
       "output_type": "stream",
       "stream": "stdout",
       "text": [
        "[26 27 37 95 26 36 24 38 74 34]\n"
       ]
      }
     ],
     "prompt_number": 4
    },
    {
     "cell_type": "code",
     "collapsed": false,
     "input": [],
     "language": "python",
     "metadata": {},
     "outputs": [],
     "prompt_number": 4
    },
    {
     "cell_type": "code",
     "collapsed": false,
     "input": [
      "df = pd.DataFrame({\"A\": np.random.rand(100), \"B\": np.random.randint(10,20,100)})"
     ],
     "language": "python",
     "metadata": {},
     "outputs": [],
     "prompt_number": 5
    },
    {
     "cell_type": "code",
     "collapsed": false,
     "input": [
      "def log_mean(x):\n",
      "    a = x.copy()\n",
      "    a = np.log10(a+1)\n",
      "    a = a.mean()\n",
      "    return 10**a -1\n",
      "def log_std(x):\n",
      "    a = x.copy()\n",
      "    a = np.log10(a+1)\n",
      "    a = a.mean()\n",
      "    return 10**a -1\n",
      "grp = df[[\"A\",\"B\"]].groupby(\"B\").agg([np.mean, np.std, log_mean, log_std])\n",
      "grp.columns = ['_'.join(col).strip() for col in grp.columns.values]\n",
      "grp = grp.reset_index()\n",
      "grp"
     ],
     "language": "python",
     "metadata": {},
     "outputs": [
      {
       "html": [
        "<div style=\"max-height:1000px;max-width:1500px;overflow:auto;\">\n",
        "<table border=\"1\" class=\"dataframe\">\n",
        "  <thead>\n",
        "    <tr style=\"text-align: right;\">\n",
        "      <th></th>\n",
        "      <th>B</th>\n",
        "      <th>A_mean</th>\n",
        "      <th>A_std</th>\n",
        "      <th>A_log_mean</th>\n",
        "      <th>A_log_std</th>\n",
        "    </tr>\n",
        "  </thead>\n",
        "  <tbody>\n",
        "    <tr>\n",
        "      <th>0</th>\n",
        "      <td> 10</td>\n",
        "      <td> 0.714602</td>\n",
        "      <td> 0.185967</td>\n",
        "      <td> 0.705827</td>\n",
        "      <td> 0.705827</td>\n",
        "    </tr>\n",
        "    <tr>\n",
        "      <th>1</th>\n",
        "      <td> 11</td>\n",
        "      <td> 0.497126</td>\n",
        "      <td> 0.287548</td>\n",
        "      <td> 0.472445</td>\n",
        "      <td> 0.472445</td>\n",
        "    </tr>\n",
        "    <tr>\n",
        "      <th>2</th>\n",
        "      <td> 12</td>\n",
        "      <td> 0.331461</td>\n",
        "      <td> 0.288148</td>\n",
        "      <td> 0.304442</td>\n",
        "      <td> 0.304442</td>\n",
        "    </tr>\n",
        "    <tr>\n",
        "      <th>3</th>\n",
        "      <td> 13</td>\n",
        "      <td> 0.401949</td>\n",
        "      <td> 0.335401</td>\n",
        "      <td> 0.368029</td>\n",
        "      <td> 0.368029</td>\n",
        "    </tr>\n",
        "    <tr>\n",
        "      <th>4</th>\n",
        "      <td> 14</td>\n",
        "      <td> 0.536568</td>\n",
        "      <td> 0.304491</td>\n",
        "      <td> 0.509018</td>\n",
        "      <td> 0.509018</td>\n",
        "    </tr>\n",
        "    <tr>\n",
        "      <th>5</th>\n",
        "      <td> 15</td>\n",
        "      <td> 0.479084</td>\n",
        "      <td> 0.232282</td>\n",
        "      <td> 0.462013</td>\n",
        "      <td> 0.462013</td>\n",
        "    </tr>\n",
        "    <tr>\n",
        "      <th>6</th>\n",
        "      <td> 16</td>\n",
        "      <td> 0.498082</td>\n",
        "      <td> 0.271425</td>\n",
        "      <td> 0.474988</td>\n",
        "      <td> 0.474988</td>\n",
        "    </tr>\n",
        "    <tr>\n",
        "      <th>7</th>\n",
        "      <td> 17</td>\n",
        "      <td> 0.536286</td>\n",
        "      <td> 0.239100</td>\n",
        "      <td> 0.519396</td>\n",
        "      <td> 0.519396</td>\n",
        "    </tr>\n",
        "    <tr>\n",
        "      <th>8</th>\n",
        "      <td> 18</td>\n",
        "      <td> 0.434177</td>\n",
        "      <td> 0.299802</td>\n",
        "      <td> 0.406255</td>\n",
        "      <td> 0.406255</td>\n",
        "    </tr>\n",
        "    <tr>\n",
        "      <th>9</th>\n",
        "      <td> 19</td>\n",
        "      <td> 0.452723</td>\n",
        "      <td> 0.277038</td>\n",
        "      <td> 0.429723</td>\n",
        "      <td> 0.429723</td>\n",
        "    </tr>\n",
        "  </tbody>\n",
        "</table>\n",
        "<p>10 rows \u00d7 5 columns</p>\n",
        "</div>"
       ],
       "metadata": {},
       "output_type": "pyout",
       "prompt_number": 6,
       "text": [
        "    B    A_mean     A_std  A_log_mean  A_log_std\n",
        "0  10  0.714602  0.185967    0.705827   0.705827\n",
        "1  11  0.497126  0.287548    0.472445   0.472445\n",
        "2  12  0.331461  0.288148    0.304442   0.304442\n",
        "3  13  0.401949  0.335401    0.368029   0.368029\n",
        "4  14  0.536568  0.304491    0.509018   0.509018\n",
        "5  15  0.479084  0.232282    0.462013   0.462013\n",
        "6  16  0.498082  0.271425    0.474988   0.474988\n",
        "7  17  0.536286  0.239100    0.519396   0.519396\n",
        "8  18  0.434177  0.299802    0.406255   0.406255\n",
        "9  19  0.452723  0.277038    0.429723   0.429723\n",
        "\n",
        "[10 rows x 5 columns]"
       ]
      }
     ],
     "prompt_number": 6
    },
    {
     "cell_type": "code",
     "collapsed": false,
     "input": [
      "x,y,z, w, v = grp['B'], grp['A_mean'], grp['A_std'], grp['A_log_mean'], grp['A_log_std']\n",
      "plt.plot(df[\"B\"],df[\"A\"],'b+')\n",
      "plt.plot(x,y,'r+')\n",
      "plt.plot(x,w,'g+')\n",
      "plt.fill_between(x, y+z,y-z, facecolor='r', alpha=0.5)\n",
      "plt.fill_between(x, w+v,w-v, facecolor='y', alpha=0.5)"
     ],
     "language": "python",
     "metadata": {},
     "outputs": [
      {
       "metadata": {},
       "output_type": "pyout",
       "prompt_number": 7,
       "text": [
        "<matplotlib.collections.PolyCollection at 0x97926d0>"
       ]
      },
      {
       "metadata": {},
       "output_type": "display_data",
       "png": "[encoded data removed]",
       "text": [
        "<matplotlib.figure.Figure at 0x9575dd0>"
       ]
      }
     ],
     "prompt_number": 7
    },
    {
     "cell_type": "code",
     "collapsed": false,
     "input": [
      "grp.to_csv(\"temp.tsv\",sep=\"\\t\",index=False)"
     ],
     "language": "python",
     "metadata": {},
     "outputs": [],
     "prompt_number": 8
    },
    {
     "cell_type": "code",
     "collapsed": false,
     "input": [
      "plt.errorbar(x,y,z,linestyle='None', marker='o', color='r',label=\"Error\",alpha=0.75)"
     ],
     "language": "python",
     "metadata": {},
     "outputs": [
      {
       "metadata": {},
       "output_type": "pyout",
       "prompt_number": 15,
       "text": [
        "<Container object of 3 artists>"
       ]
      },
      {
       "metadata": {},
       "output_type": "display_data",
       "png": "[encoded data removed]",
       "text": [
        "<matplotlib.figure.Figure at 0x9d259d0>"
       ]
      }
     ],
     "prompt_number": 15
    },
    {
     "cell_type": "code",
     "collapsed": false,
     "input": [],
     "language": "python",
     "metadata": {},
     "outputs": [],
     "prompt_number": 9
    }
   ],
   "metadata": {}
  }
 ]
}
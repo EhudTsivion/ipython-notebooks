{
 "cells": [
  {
   "cell_type": "markdown",
   "metadata": {},
   "source": [
    "# Questions taken from:\n",
    "http://mycsinterviewsexperiences.blogspot.com/2012/09/interviews-with-microsoft-bing-and.html\n",
    "\n"
   ]
  },
  {
   "cell_type": "code",
   "execution_count": 1,
   "metadata": {
    "collapsed": true
   },
   "outputs": [],
   "source": [
    "graph = {'A': set(['B', 'C']),\n",
    "         'B': set(['A', 'D', 'E']),\n",
    "         'C': set(['A', 'F']),\n",
    "         'D': set(['B']),\n",
    "         'E': set(['B', 'F']),\n",
    "         'F': set(['C', 'E'])}"
   ]
  },
  {
   "cell_type": "code",
   "execution_count": 2,
   "metadata": {
    "collapsed": false,
    "scrolled": false
   },
   "outputs": [
    {
     "name": "stdout",
     "output_type": "stream",
     "text": [
      "Outside:  A -> set([]) []\n",
      "Outside:  B -> set(['A']) ['C']\n",
      "Outside:  D -> set(['A', 'B']) ['C', 'E']\n",
      "Outside:  E -> set(['A', 'B', 'D']) ['C']\n",
      "Outside:  F -> set(['A', 'B', 'E', 'D']) ['C']\n",
      "Outside:  C -> set(['A', 'B', 'E', 'D', 'F']) ['C']\n",
      "Outside:  C -> set(['A', 'C', 'B', 'E', 'D', 'F']) []\n"
     ]
    },
    {
     "data": {
      "text/plain": [
       "{'A', 'B', 'C', 'D', 'E', 'F'}"
      ]
     },
     "execution_count": 2,
     "metadata": {},
     "output_type": "execute_result"
    }
   ],
   "source": [
    "def dfs(graph, start):\n",
    "    visited, stack = (set(), [start])\n",
    "    while stack:\n",
    "        curr = stack.pop()\n",
    "        print \"Outside: \", curr, \"->\", visited, stack\n",
    "        if curr not in visited:\n",
    "            visited.add(curr)\n",
    "            stack.extend(graph[curr] - visited)\n",
    "    return visited\n",
    "            \n",
    "           \n",
    "            \n",
    "dfs(graph, \"A\")        "
   ]
  },
  {
   "cell_type": "code",
   "execution_count": 3,
   "metadata": {
    "collapsed": false
   },
   "outputs": [
    {
     "name": "stdout",
     "output_type": "stream",
     "text": [
      "['A', 'B', 'E', 'F']\n",
      "['A', 'C', 'F']\n"
     ]
    }
   ],
   "source": [
    "def dfs_paths(graph, start, goal):\n",
    "    stack = [(start, [start])]\n",
    "    while stack:\n",
    "        curr, path = stack.pop()\n",
    "        for next in graph[curr] - set(path):\n",
    "            if next == goal:\n",
    "                print path + [next]\n",
    "            else:\n",
    "                stack.append((next, path + [next]))\n",
    "                \n",
    "dfs_paths(graph, \"A\", \"F\")        "
   ]
  },
  {
   "cell_type": "code",
   "execution_count": 4,
   "metadata": {
    "collapsed": false
   },
   "outputs": [
    {
     "name": "stdout",
     "output_type": "stream",
     "text": [
      "Visited: set([]), Queue: ['A']\n",
      "Outside:  A\n",
      "Visited: set(['A', 'C', 'B']), Queue: ['F', 'E', 'D']\n",
      "Outside:  F\n",
      "Visited: set(['A', 'C', 'B', 'E', 'F']), Queue: ['E', 'D']\n",
      "Outside:  E\n",
      "Visited: set(['A', 'C', 'B', 'E', 'F']), Queue: ['D']\n",
      "Outside:  D\n"
     ]
    },
    {
     "data": {
      "text/plain": [
       "{'A', 'B', 'C', 'D', 'E', 'F'}"
      ]
     },
     "execution_count": 4,
     "metadata": {},
     "output_type": "execute_result"
    }
   ],
   "source": [
    "def bfs(graph, start):\n",
    "    visited, queue = (set(), [start])\n",
    "    while queue:\n",
    "        print \"Visited: %s, Queue: %s\" % (visited, queue)\n",
    "        curr = queue.pop(0)\n",
    "        print \"Outside: \", curr\n",
    "        if curr not in visited:\n",
    "            visited.add(curr)\n",
    "            for k in graph[curr] - visited:\n",
    "                queue.extend(graph[k] - visited)\n",
    "            visited = visited.union(graph[curr])\n",
    "            #print \"Curr: %s, Edges: %s\" % (curr, graph[curr])\n",
    "    return visited\n",
    "\n",
    "bfs(graph, \"A\")"
   ]
  },
  {
   "cell_type": "code",
   "execution_count": 5,
   "metadata": {
    "collapsed": false
   },
   "outputs": [
    {
     "name": "stdout",
     "output_type": "stream",
     "text": [
      "Visited: set([]), Queue: ['A']\n",
      "Outside:  A\n",
      "Visited: set(['A']), Queue: ['C', 'B']\n",
      "Outside:  C\n",
      "Visited: set(['A', 'C']), Queue: ['B', 'F']\n",
      "Outside:  B\n",
      "Visited: set(['A', 'C', 'B']), Queue: ['F', 'E', 'D']\n",
      "Outside:  F\n",
      "Visited: set(['A', 'C', 'B', 'F']), Queue: ['E', 'D', 'E']\n",
      "Outside:  E\n",
      "Visited: set(['A', 'C', 'B', 'E', 'F']), Queue: ['D', 'E']\n",
      "Outside:  D\n",
      "Visited: set(['A', 'C', 'B', 'E', 'D', 'F']), Queue: ['E']\n",
      "Outside:  E\n"
     ]
    },
    {
     "data": {
      "text/plain": [
       "{'A', 'B', 'C', 'D', 'E', 'F'}"
      ]
     },
     "execution_count": 5,
     "metadata": {},
     "output_type": "execute_result"
    }
   ],
   "source": [
    "def bfs(graph, start):\n",
    "    visited, queue = (set(), [start])\n",
    "    while queue:\n",
    "        print \"Visited: %s, Queue: %s\" % (visited, queue)\n",
    "        curr = queue.pop(0)\n",
    "        print \"Outside: \", curr\n",
    "        if curr not in visited:\n",
    "            visited.add(curr)\n",
    "            queue.extend(graph[curr] - visited)\n",
    "    return visited\n",
    "\n",
    "bfs(graph, \"A\")"
   ]
  },
  {
   "cell_type": "code",
   "execution_count": 6,
   "metadata": {
    "collapsed": false
   },
   "outputs": [
    {
     "name": "stdout",
     "output_type": "stream",
     "text": [
      "['A', 'C', 'F']\n",
      "['A', 'B', 'E', 'F']\n"
     ]
    }
   ],
   "source": [
    "def bfs_paths(graph, start, goal):\n",
    "    queue = [(start, [start])]\n",
    "    while queue:\n",
    "        curr, path = queue.pop(0)\n",
    "        for next in graph[curr] - set(path):\n",
    "            if next == goal:\n",
    "                print path + [next]\n",
    "            else:\n",
    "                queue.append((next, path + [next]))\n",
    "\n",
    "bfs_paths(graph, \"A\", \"F\")"
   ]
  },
  {
   "cell_type": "code",
   "execution_count": 7,
   "metadata": {
    "collapsed": false
   },
   "outputs": [
    {
     "name": "stdout",
     "output_type": "stream",
     "text": [
      "A A None\n",
      "A C ['A', 'C']\n",
      "A B ['A', 'B']\n",
      "A E ['A', 'B', 'E']\n",
      "A D ['A', 'B', 'D']\n",
      "A F ['A', 'C', 'F']\n"
     ]
    }
   ],
   "source": [
    "def shortest_path(graph, start, goal):\n",
    "    queue = [(start, [start])]\n",
    "    while queue:\n",
    "        curr, path = queue.pop(0)\n",
    "        for next in graph[curr] - set(path):\n",
    "            if next == goal:\n",
    "                return path + [next]\n",
    "            else:\n",
    "                queue.append((next, path + [next]))\n",
    "    return None\n",
    "for k in graph.keys():\n",
    "    print \"A\", k, shortest_path(graph, \"A\", k)"
   ]
  },
  {
   "cell_type": "markdown",
   "metadata": {},
   "source": [
    "## Q1. Given a binary tree, return true if it is a BST. Do it in a non-recursive way.\n",
    "Do DFS and at each step check the condition for BST. If fail return False. If passes all conditions return True. "
   ]
  },
  {
   "cell_type": "code",
   "execution_count": 8,
   "metadata": {
    "collapsed": false
   },
   "outputs": [],
   "source": [
    "def append_bst(graph, root, item):\n",
    "    if root is None:\n",
    "        graph[item] = [None, None]\n",
    "        return graph\n",
    "    curr = root\n",
    "    while (item < curr) or (item > curr):\n",
    "        if item < curr:\n",
    "            if graph[curr][0] is not None:\n",
    "                curr = graph[curr][0]\n",
    "            else:\n",
    "                graph[curr][0] = item\n",
    "                graph[item] = [None, None]\n",
    "        elif item > curr:\n",
    "            if graph[curr][1] is not None:\n",
    "                curr = graph[curr][1]\n",
    "            else:\n",
    "                graph[curr][1] = item\n",
    "                graph[item] = [None, None]\n",
    "    return graph\n",
    "\n",
    "def gen_bst(arr):\n",
    "    graph = append_bst({}, None, arr[0])\n",
    "    root = arr[0]\n",
    "    for item in arr[1:]:\n",
    "        graph = append_bst(graph, root, item)\n",
    "        #print item, graph\n",
    "    return graph, root"
   ]
  },
  {
   "cell_type": "code",
   "execution_count": 9,
   "metadata": {
    "collapsed": false
   },
   "outputs": [
    {
     "name": "stdout",
     "output_type": "stream",
     "text": [
      "Final graph:\n",
      "({0: [None, 1], 1: [None, 2], 2: [None, 3], 3: [None, 4], 4: [None, 5], 5: [None, 6], 6: [None, 7], 7: [None, 8], 8: [None, 9], 9: [None, None]}, 0)\n"
     ]
    }
   ],
   "source": [
    "print \"Final graph:\\n\", gen_bst(range(10))"
   ]
  },
  {
   "cell_type": "code",
   "execution_count": 10,
   "metadata": {
    "collapsed": false
   },
   "outputs": [
    {
     "name": "stdout",
     "output_type": "stream",
     "text": [
      "Final graph:\n",
      "({1: [None, None], 2: [1, None], 3: [2, None], 4: [3, 5], 5: [None, 10], 7: [None, None], 10: [7, None]}, 4)\n"
     ]
    }
   ],
   "source": [
    "print \"Final graph:\\n\", gen_bst([4,5,3,2,10,1,7])"
   ]
  },
  {
   "cell_type": "code",
   "execution_count": 11,
   "metadata": {
    "collapsed": true
   },
   "outputs": [],
   "source": [
    "def print_graph(graph, root):\n",
    "    visited, queue = (set([None]), [root])\n",
    "    level = 0\n",
    "    while queue:\n",
    "        curr = queue.pop(0)\n",
    "        print curr \n",
    "        if curr not in visited:\n",
    "            visited.add(curr)\n",
    "            queue.extend(set(graph[curr]) - visited)\n",
    "    "
   ]
  },
  {
   "cell_type": "code",
   "execution_count": 12,
   "metadata": {
    "collapsed": false
   },
   "outputs": [
    {
     "name": "stdout",
     "output_type": "stream",
     "text": [
      "4\n",
      "3\n",
      "5\n",
      "2\n",
      "10\n",
      "1\n",
      "7\n"
     ]
    }
   ],
   "source": [
    "print_graph(*gen_bst([4,5,3,2,10,1,7]))"
   ]
  },
  {
   "cell_type": "code",
   "execution_count": 13,
   "metadata": {
    "collapsed": false
   },
   "outputs": [
    {
     "data": {
      "text/plain": [
       "1"
      ]
     },
     "execution_count": 13,
     "metadata": {},
     "output_type": "execute_result"
    }
   ],
   "source": [
    "min([1, 2, 3])"
   ]
  },
  {
   "cell_type": "code",
   "execution_count": 14,
   "metadata": {
    "collapsed": true
   },
   "outputs": [],
   "source": [
    "def is_bst(graph, root):\n",
    "    if root is None:\n",
    "        return True\n",
    "    visited, stack = (set([None]), [root])\n",
    "    while stack:\n",
    "        curr = stack.pop()\n",
    "        left, right = graph[curr]\n",
    "        if left is not None and left > curr:\n",
    "            # Left is always smaller than parent\n",
    "            return False\n",
    "        if right is not None and right < curr:\n",
    "            # Right is always greater than parent\n",
    "            return False\n",
    "        if curr not in visited:\n",
    "            visited.add(curr)\n",
    "            print curr\n",
    "            stack.extend(set(graph[curr]) - visited)\n",
    "    return True\n",
    "            "
   ]
  },
  {
   "cell_type": "code",
   "execution_count": 15,
   "metadata": {
    "collapsed": false
   },
   "outputs": [
    {
     "name": "stdout",
     "output_type": "stream",
     "text": [
      "4\n",
      "5\n",
      "10\n",
      "7\n",
      "3\n",
      "2\n",
      "1\n"
     ]
    },
    {
     "data": {
      "text/plain": [
       "True"
      ]
     },
     "execution_count": 15,
     "metadata": {},
     "output_type": "execute_result"
    }
   ],
   "source": [
    "graph, root = gen_bst([4,5,3,2,10,1,7])\n",
    "is_bst(graph, root)"
   ]
  },
  {
   "cell_type": "code",
   "execution_count": 16,
   "metadata": {
    "collapsed": false
   },
   "outputs": [
    {
     "data": {
      "text/plain": [
       "False"
      ]
     },
     "execution_count": 16,
     "metadata": {},
     "output_type": "execute_result"
    }
   ],
   "source": [
    "graph = {0: [1,2],\n",
    "         1: [None, None],\n",
    "         2: [None, None]}\n",
    "root = 0\n",
    "is_bst(graph, root)"
   ]
  },
  {
   "cell_type": "markdown",
   "metadata": {},
   "source": [
    "## Q2. There is a 2D matrix of size 10 X 10, where you have to begin from the location (0,0) and move to the location (9,9). You can either move right on down. Find out the number of distinct paths in which you can reach (9,9) from (0,0).\n",
    "\n",
    "#paths(i,j) = #paths(i-1, j-1) + 2"
   ]
  },
  {
   "cell_type": "code",
   "execution_count": 17,
   "metadata": {
    "collapsed": false
   },
   "outputs": [],
   "source": [
    "def npaths(N=10):\n",
    "    mat = [[0]*N for k in range(N)]\n",
    "    mat[0][0] = 1\n",
    "    for i in range(N):\n",
    "        for j in range(N):\n",
    "            if mat[i][j] == 0:\n",
    "                if i == 0:\n",
    "                    mat[i][j] = mat[i][j-1] # Only one movement from left cell\n",
    "                    #print \"mat[%s][%s] = mat[%s][%s]\" % (i,j,i,j-1)\n",
    "                    #print_mat(mat)\n",
    "                elif j == 0:\n",
    "                    mat[i][j] = mat[i-1][j] # Only one movement from top cell\n",
    "                    #print \"mat[%s][%s] = mat[%s][%s]\" % (i,j,i-1,j)\n",
    "                else:\n",
    "                    mat[i][j] = mat[i-1][j] + mat[i][j-1]\n",
    "                    #print \"mat[%s][%s] = mat[%s][%s]+1\" % (i,j,i-1,j-1)\n",
    "    return mat\n",
    "\n",
    "def print_mat(mat):\n",
    "    for row in mat:\n",
    "        print row"
   ]
  },
  {
   "cell_type": "code",
   "execution_count": 18,
   "metadata": {
    "collapsed": false
   },
   "outputs": [
    {
     "name": "stdout",
     "output_type": "stream",
     "text": [
      "[1, 1]\n",
      "[1, 2]\n"
     ]
    }
   ],
   "source": [
    "print_mat(npaths(N=2))"
   ]
  },
  {
   "cell_type": "code",
   "execution_count": 19,
   "metadata": {
    "collapsed": false
   },
   "outputs": [
    {
     "name": "stdout",
     "output_type": "stream",
     "text": [
      "[1, 1, 1]\n",
      "[1, 2, 3]\n",
      "[1, 3, 6]\n"
     ]
    }
   ],
   "source": [
    "print_mat(npaths(N=3))"
   ]
  },
  {
   "cell_type": "code",
   "execution_count": 20,
   "metadata": {
    "collapsed": false
   },
   "outputs": [
    {
     "name": "stdout",
     "output_type": "stream",
     "text": [
      "[1, 1, 1, 1, 1, 1, 1, 1, 1, 1]\n",
      "[1, 2, 3, 4, 5, 6, 7, 8, 9, 10]\n",
      "[1, 3, 6, 10, 15, 21, 28, 36, 45, 55]\n",
      "[1, 4, 10, 20, 35, 56, 84, 120, 165, 220]\n",
      "[1, 5, 15, 35, 70, 126, 210, 330, 495, 715]\n",
      "[1, 6, 21, 56, 126, 252, 462, 792, 1287, 2002]\n",
      "[1, 7, 28, 84, 210, 462, 924, 1716, 3003, 5005]\n",
      "[1, 8, 36, 120, 330, 792, 1716, 3432, 6435, 11440]\n",
      "[1, 9, 45, 165, 495, 1287, 3003, 6435, 12870, 24310]\n",
      "[1, 10, 55, 220, 715, 2002, 5005, 11440, 24310, 48620]\n"
     ]
    }
   ],
   "source": [
    "print_mat(npaths(N=10))"
   ]
  },
  {
   "cell_type": "markdown",
   "metadata": {},
   "source": [
    "## Q3. Given an array with a special property, find the smallest number in it. The special property is that the elements in the array are monotonically decreasing and then increasing.\n",
    "\n",
    "Get middle element:\n",
    "\n",
    "* if middle element part of increasing sequence then search left\n",
    "* if middle element part of decreasing sequence then search right\n",
    "\n",
    "Stop when middle number such that left is higher and right is higher"
   ]
  },
  {
   "cell_type": "code",
   "execution_count": 21,
   "metadata": {
    "collapsed": true
   },
   "outputs": [],
   "source": [
    "def find_smallest(arr):\n",
    "    left, right = 0, len(arr)\n",
    "    mid = (left + right) /2\n",
    "    i = 1\n",
    "    while mid > 0 and mid < len(arr)-1 and i < len(arr):\n",
    "        if arr[mid-1] <= arr[mid] and arr[mid+1] >= arr[mid]:\n",
    "            right = mid\n",
    "        elif arr[mid-1] >= arr[mid] and arr[mid+1] <= arr[mid]:\n",
    "            left = mid\n",
    "        else:\n",
    "            break\n",
    "        mid = (left + right) /2\n",
    "        i += 1\n",
    "    print \"Iterations required: \", i\n",
    "    return arr[mid]"
   ]
  },
  {
   "cell_type": "code",
   "execution_count": 22,
   "metadata": {
    "collapsed": false
   },
   "outputs": [
    {
     "name": "stdout",
     "output_type": "stream",
     "text": [
      "Iterations required:  1\n"
     ]
    },
    {
     "data": {
      "text/plain": [
       "1"
      ]
     },
     "execution_count": 22,
     "metadata": {},
     "output_type": "execute_result"
    }
   ],
   "source": [
    "find_smallest([1])"
   ]
  },
  {
   "cell_type": "code",
   "execution_count": 23,
   "metadata": {
    "collapsed": false
   },
   "outputs": [
    {
     "name": "stdout",
     "output_type": "stream",
     "text": [
      "Iterations required:  2\n"
     ]
    },
    {
     "data": {
      "text/plain": [
       "1"
      ]
     },
     "execution_count": 23,
     "metadata": {},
     "output_type": "execute_result"
    }
   ],
   "source": [
    "find_smallest([1,2,3])"
   ]
  },
  {
   "cell_type": "code",
   "execution_count": 24,
   "metadata": {
    "collapsed": false
   },
   "outputs": [
    {
     "name": "stdout",
     "output_type": "stream",
     "text": [
      "Iterations required:  3\n"
     ]
    },
    {
     "data": {
      "text/plain": [
       "7"
      ]
     },
     "execution_count": 24,
     "metadata": {},
     "output_type": "execute_result"
    }
   ],
   "source": [
    "find_smallest([10,9,8,7,11,12,13,14])"
   ]
  },
  {
   "cell_type": "code",
   "execution_count": 25,
   "metadata": {
    "collapsed": false
   },
   "outputs": [
    {
     "name": "stdout",
     "output_type": "stream",
     "text": [
      "Iterations required:  2\n"
     ]
    },
    {
     "data": {
      "text/plain": [
       "1"
      ]
     },
     "execution_count": 25,
     "metadata": {},
     "output_type": "execute_result"
    }
   ],
   "source": [
    "find_smallest([3,2,1])"
   ]
  },
  {
   "cell_type": "markdown",
   "metadata": {},
   "source": [
    "## Find if a string s3 can be formed by interleaving 2 other given strings s1 and s2\n",
    "Characters of each string s1 and s2 will appear in the same order they appear in the original string. All characters of s1 and s2 must be exhausted.\n",
    "\n",
    "E.g.\n",
    "```\n",
    "s1 = \"aaab\"\n",
    "s2 = \"aaac\"\n",
    "s3 = \"aaaacaab\" # is_interleaved = True\n",
    "s3 = \"aaaacaa\" # is_interleaved = False, as b is not present in s3\n",
    "s3 = \"aaaacaad\" # is_interleaved = False, as d is not present in s1 or s2\n",
    "```\n",
    "\n",
    "Approach: If s[i+j] can be formed by inteleaving s1[i-1] and s2[j] or s1[i] and s2[j-1] then s3[i+j+1] can just be formed by just matching the next character."
   ]
  },
  {
   "cell_type": "code",
   "execution_count": 34,
   "metadata": {
    "collapsed": true
   },
   "outputs": [],
   "source": [
    "from pprint import pprint"
   ]
  },
  {
   "cell_type": "code",
   "execution_count": 141,
   "metadata": {
    "collapsed": false
   },
   "outputs": [],
   "source": [
    "mat = []\n",
    "\n",
    "def f(s1,s2,s3,i,j):\n",
    "    if i < 0 and j < 0:\n",
    "        return True\n",
    "    if i < 0:\n",
    "        return (s3[:j+1] == s2[:j+1])\n",
    "    if j < 0:\n",
    "        return (s3[:i+1] == s1[:i+1])\n",
    "    if mat[i][j] == -1:\n",
    "        mat[i][j] = (\n",
    "            (f(s1,s2,s3,i-1,j) and (s3[i+j+1] == s1[i]))\n",
    "            or (f(s1,s2,s3,i,j-1) and (s3[i+j+1] == s2[j]))\n",
    "        )\n",
    "    return mat[i][j]\n",
    "\n",
    "def is_interleaved(s1,s2,s3):\n",
    "    global mat\n",
    "    if len(s1) == 0 and len(s2) == 0 and len(s3) == 0:\n",
    "        return True\n",
    "    if len(s3) != (len(s1) + len(s2)):\n",
    "        return False\n",
    "    l_s1, l_s2 = len(s1), len(s2)\n",
    "    mat = [[-1]*(l_s2) for i in xrange(l_s1)]\n",
    "    for i in xrange(l_s1):\n",
    "        for j in xrange(l_s2):\n",
    "            check = f(s1,s2,s3,i,j)\n",
    "            #print i,j, i+j+1, s1[:i+1], s2[:j+1], s3[:i+j+2], check\n",
    "    #pprint(mat)\n",
    "    return mat[-1][-1]\n",
    "                \n",
    "                "
   ]
  },
  {
   "cell_type": "code",
   "execution_count": 142,
   "metadata": {
    "collapsed": false
   },
   "outputs": [
    {
     "name": "stdout",
     "output_type": "stream",
     "text": [
      "'aaaacaab'\tTrue\n",
      "'aaaacaa'\tFalse\n",
      "'aaaacaad'\tFalse\n",
      "'aaaadaad'\tFalse\n",
      "''\tFalse\n"
     ]
    }
   ],
   "source": [
    "s1 = \"aaab\"\n",
    "s2 = \"aaac\"\n",
    "for s3 in [\"aaaacaab\", \"aaaacaa\", \"aaaacaad\", \"aaaadaad\", \"\"]:\n",
    "    print \"'%s'\\t%s\" % (s3, is_interleaved(s1, s2, s3))"
   ]
  },
  {
   "cell_type": "code",
   "execution_count": 143,
   "metadata": {
    "collapsed": false
   },
   "outputs": [
    {
     "name": "stdout",
     "output_type": "stream",
     "text": [
      "'worldhello'\tTrue\n",
      "'heworlllod'\tTrue\n",
      "'helloworld'\tTrue\n",
      "''\tFalse\n"
     ]
    }
   ],
   "source": [
    "s1 = \"hello\"\n",
    "s2 = \"world\"\n",
    "for s3 in [\"worldhello\", \"heworlllod\", \"helloworld\", \"\"]:\n",
    "    print \"'%s'\\t%s\" % (s3, is_interleaved(s1, s2, s3))"
   ]
  },
  {
   "cell_type": "code",
   "execution_count": 144,
   "metadata": {
    "collapsed": false
   },
   "outputs": [
    {
     "name": "stdout",
     "output_type": "stream",
     "text": [
      "'worldhello'\tFalse\n",
      "'heworlllod'\tFalse\n",
      "'helloworld'\tFalse\n",
      "''\tTrue\n"
     ]
    }
   ],
   "source": [
    "s1 = \"\"\n",
    "s2 = \"\"\n",
    "for s3 in [\"worldhello\", \"heworlllod\", \"helloworld\", \"\"]:\n",
    "    print \"'%s'\\t%s\" % (s3, is_interleaved(s1, s2, s3))"
   ]
  },
  {
   "cell_type": "code",
   "execution_count": 124,
   "metadata": {
    "collapsed": false
   },
   "outputs": [
    {
     "name": "stdout",
     "output_type": "stream",
     "text": [
      "[]\n"
     ]
    }
   ],
   "source": [
    "pprint(mat)"
   ]
  },
  {
   "cell_type": "code",
   "execution_count": null,
   "metadata": {
    "collapsed": true
   },
   "outputs": [],
   "source": []
  }
 ],
 "metadata": {
  "kernelspec": {
   "display_name": "Python 2",
   "language": "python",
   "name": "python2"
  },
  "language_info": {
   "codemirror_mode": {
    "name": "ipython",
    "version": 2
   },
   "file_extension": ".py",
   "mimetype": "text/x-python",
   "name": "python",
   "nbconvert_exporter": "python",
   "pygments_lexer": "ipython2",
   "version": "2.7.11"
  }
 },
 "nbformat": 4,
 "nbformat_minor": 0
}

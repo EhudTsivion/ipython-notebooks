{
 "cells": [
  {
   "cell_type": "code",
   "execution_count": 75,
   "metadata": {
    "collapsed": true
   },
   "outputs": [],
   "source": [
    "%matplotlib inline\n",
    "from copy import deepcopy"
   ]
  },
  {
   "cell_type": "code",
   "execution_count": 3,
   "metadata": {
    "collapsed": true
   },
   "outputs": [],
   "source": [
    "import random\n",
    "import matplotlib.pyplot as plt"
   ]
  },
  {
   "cell_type": "code",
   "execution_count": 80,
   "metadata": {
    "collapsed": false
   },
   "outputs": [
    {
     "name": "stdout",
     "output_type": "stream",
     "text": [
      "[[1, 0, 1, 1, -1], [0, 1, 1, 1, 1], [0, 1, 0, 1, 1], [1, -1, 0, 1, 1], [0, 0, 0, 0, 0]]\n"
     ]
    },
    {
     "data": {
      "image/png": "[encoded data removed]",
      "text/plain": [
       "<matplotlib.figure.Figure at 0xb642ac8>"
      ]
     },
     "metadata": {},
     "output_type": "display_data"
    }
   ],
   "source": [
    "N = 5\n",
    "maze = [[random.randrange(0,2) for j in range(N)] for i in range(N)]\n",
    "start, end = [[random.randrange(0,N), random.randrange(0,N)] for i in range(2)]\n",
    "maze[start[0]][start[1]] = -1\n",
    "maze[end[0]][end[1]] = -1\n",
    "plt.matshow(maze)\n",
    "print maze\n",
    "temp_maze = deepcopy(maze)"
   ]
  },
  {
   "cell_type": "code",
   "execution_count": 94,
   "metadata": {
    "collapsed": false
   },
   "outputs": [
    {
     "name": "stdout",
     "output_type": "stream",
     "text": [
      "[(-1, 0), (1, 0), (0, 1), (0, -1)]\n",
      "1\t0\t1\t1\t-1\n",
      "0\t1\t1\t1\t1\n",
      "0\t1\t-2\t1\t1\n",
      "1\t-1\t0\t1\t1\n",
      "0\t0\t0\t0\t0\n"
     ]
    }
   ],
   "source": [
    "neighbor_filter = [(-1,0), (1,0), (0,1), (0,-1)]\n",
    "print neighbor_filter\n",
    "\n",
    "def printMat(mat):\n",
    "    for k in mat:\n",
    "        print \"\\t\".join([str(j) for j in k])\n",
    "printMat(maze)"
   ]
  },
  {
   "cell_type": "code",
   "execution_count": 98,
   "metadata": {
    "collapsed": false
   },
   "outputs": [
    {
     "name": "stdout",
     "output_type": "stream",
     "text": [
      "[(1, 2), (2, 3), (2, 1)] [3, 1] [0, 4]\n",
      "Maze\n",
      "1\t0\t1\t1\t-1\n",
      "0\t1\t1\t1\t1\n",
      "0\t1\t-2\t1\t1\n",
      "1\t-1\t0\t1\t1\n",
      "0\t0\t0\t0\t0\n",
      "Temp Maze\n",
      "1\t0\t1\t1\t-1\n",
      "0\t1\t1\t1\t1\n",
      "0\t1\t0\t1\t1\n",
      "1\t-1\t0\t1\t1\n",
      "0\t0\t0\t0\t0\n"
     ]
    },
    {
     "data": {
      "image/png": "[encoded data removed]",
      "text/plain": [
       "<matplotlib.figure.Figure at 0xc772438>"
      ]
     },
     "metadata": {},
     "output_type": "display_data"
    },
    {
     "data": {
      "image/png": "[encoded data removed]",
      "text/plain": [
       "<matplotlib.figure.Figure at 0xccb6f60>"
      ]
     },
     "metadata": {},
     "output_type": "display_data"
    }
   ],
   "source": [
    "def getNeighbors(x,y):\n",
    "    if x >= N or x < 0 or y >= N or y < 0:\n",
    "        print \"Wrong Index\"\n",
    "        return\n",
    "    neighbors = set([((x+k[0]), (y+k[1])) for k in neighbor_filter if x+k[0] >=0 and x+k[0] < N and y+k[1] >=0 and y+k[1] < N])\n",
    "    neighbors = [k for k in neighbors if maze[k[0]][k[1]] in [-1,1]]\n",
    "    \"\"\"\n",
    "    for k in neighbors:\n",
    "        maze[k[0]][k[1]] += 5\n",
    "    \"\"\"\n",
    "    return neighbors\n",
    "maze = deepcopy(temp_maze)\n",
    "maze[2][2] = -2\n",
    "print getNeighbors(2,2), start, end\n",
    "plt.matshow(maze)\n",
    "plt.matshow(temp_maze)\n",
    "print \"Maze\"\n",
    "printMat(maze)\n",
    "print \"Temp Maze\"\n",
    "printMat(temp_maze)"
   ]
  },
  {
   "cell_type": "code",
   "execution_count": 124,
   "metadata": {
    "collapsed": false
   },
   "outputs": [
    {
     "name": "stdout",
     "output_type": "stream",
     "text": [
      "Visited room:  (4, 1)\n",
      "Visited room:  (3, 1)\n",
      "Visited room:  (2, 1)\n",
      "Visited room:  (2, 0)\n",
      "Visited room:  (1, 0)\n",
      "Visited room:  (0, 0)\n",
      "Visited room:  (0, 1)\n",
      "Visited room:  (1, 1)\n",
      "Visited room:  (1, 1)\n",
      "Dead end\n",
      "Visited room:  (1, 1)\n",
      "Dead end\n"
     ]
    },
    {
     "data": {
      "text/plain": [
       "<matplotlib.image.AxesImage at 0xe3fb438>"
      ]
     },
     "execution_count": 124,
     "metadata": {},
     "output_type": "execute_result"
    },
    {
     "data": {
      "image/png": "[encoded data removed]",
      "text/plain": [
       "<matplotlib.figure.Figure at 0xe4b8b70>"
      ]
     },
     "metadata": {},
     "output_type": "display_data"
    },
    {
     "data": {
      "image/png": "[encoded data removed]",
      "text/plain": [
       "<matplotlib.figure.Figure at 0xeca0cf8>"
      ]
     },
     "metadata": {},
     "output_type": "display_data"
    }
   ],
   "source": [
    "def checkRoom(roomNumber):\n",
    "    x, y = roomNumber\n",
    "    if maze[x][y] == 2:\n",
    "        print \"Dead end\"\n",
    "        return False\n",
    "    maze[x][y] = 2\n",
    "    for k in getNeighbors(x,y):\n",
    "        if maze[k[0]][k[1]] == -1:\n",
    "            print \"Solved\"\n",
    "            return True\n",
    "        else:\n",
    "            print \"Visited room: \", k\n",
    "            if checkRoom(k):\n",
    "                return True\n",
    "            maze[k[0]][k[1]] = 2\n",
    "\n",
    "maze = deepcopy(temp_maze)\n",
    "checkRoom(start)\n",
    "plt.matshow(maze)\n",
    "plt.matshow(temp_maze)"
   ]
  },
  {
   "cell_type": "code",
   "execution_count": 105,
   "metadata": {
    "collapsed": true
   },
   "outputs": [],
   "source": [
    "def genMaze(N=5):\n",
    "    maze = [[random.randrange(0,2) for j in range(N)] for i in range(N)]\n",
    "    start, end = [[random.randrange(0,N), random.randrange(0,N)] for i in range(2)]\n",
    "    maze[start[0]][start[1]] = -1\n",
    "    maze[end[0]][end[1]] = -1\n",
    "    plt.matshow(maze)\n",
    "    return maze, start, end"
   ]
  },
  {
   "cell_type": "code",
   "execution_count": 136,
   "metadata": {
    "collapsed": false
   },
   "outputs": [
    {
     "data": {
      "image/png": "[encoded data removed]",
      "text/plain": [
       "<matplotlib.figure.Figure at 0xf5e3898>"
      ]
     },
     "metadata": {},
     "output_type": "display_data"
    }
   ],
   "source": [
    "maze, start, end = genMaze(N=10)\n",
    "#printMat(maze)\n",
    "temp_maze = deepcopy(maze)"
   ]
  },
  {
   "cell_type": "code",
   "execution_count": 137,
   "metadata": {
    "collapsed": false
   },
   "outputs": [
    {
     "name": "stdout",
     "output_type": "stream",
     "text": [
      "[3, 4]\n",
      "Visited room:  (2, 4)\n",
      "Visited room:  (2, 3)\n",
      "Visited room:  (2, 2)\n",
      "Visited room:  (1, 3)\n",
      "Solved\n"
     ]
    },
    {
     "data": {
      "text/plain": [
       "<matplotlib.image.AxesImage at 0xe9399e8>"
      ]
     },
     "execution_count": 137,
     "metadata": {},
     "output_type": "execute_result"
    },
    {
     "data": {
      "image/png": "[encoded data removed]",
      "text/plain": [
       "<matplotlib.figure.Figure at 0xef73d68>"
      ]
     },
     "metadata": {},
     "output_type": "display_data"
    },
    {
     "data": {
      "image/png": "[encoded data removed]",
      "text/plain": [
       "<matplotlib.figure.Figure at 0xef73668>"
      ]
     },
     "metadata": {},
     "output_type": "display_data"
    }
   ],
   "source": [
    "print start\n",
    "N = 10\n",
    "maze = deepcopy(temp_maze)\n",
    "checkRoom(start)\n",
    "plt.matshow(maze)\n",
    "plt.matshow(temp_maze)"
   ]
  },
  {
   "cell_type": "code",
   "execution_count": null,
   "metadata": {
    "collapsed": true
   },
   "outputs": [],
   "source": []
  }
 ],
 "metadata": {
  "kernelspec": {
   "display_name": "Python 2",
   "language": "python",
   "name": "python2"
  },
  "language_info": {
   "codemirror_mode": {
    "name": "ipython",
    "version": 2
   },
   "file_extension": ".py",
   "mimetype": "text/x-python",
   "name": "python",
   "nbconvert_exporter": "python",
   "pygments_lexer": "ipython2",
   "version": "2.7.9"
  }
 },
 "nbformat": 4,
 "nbformat_minor": 0
}

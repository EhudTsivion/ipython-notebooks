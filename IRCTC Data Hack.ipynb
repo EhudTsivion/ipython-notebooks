{
 "cells": [
  {
   "cell_type": "markdown",
   "metadata": {},
   "source": [
    "Late night 1 hour hack of the freshly released dataset on train time tables by IRCTC.\n",
    "Source: https://data.gov.in/catalog/indian-railways-train-time-table-0#web_catalog_tabs_block_10"
   ]
  },
  {
   "cell_type": "code",
   "execution_count": 16,
   "metadata": {
    "collapsed": true
   },
   "outputs": [],
   "source": [
    "%matplotlib inline\n",
    "import numpy as np\n",
    "import matplotlib.pyplot as plt\n",
    "import pandas as pd\n",
    "import seaborn as sns"
   ]
  },
  {
   "cell_type": "code",
   "execution_count": 20,
   "metadata": {
    "collapsed": true
   },
   "outputs": [],
   "source": [
    "# Load the data into a dataframe\n",
    "df = pd.read_csv(\"data/isl_wise_train_detail_03082015_v1.csv\")"
   ]
  },
  {
   "cell_type": "code",
   "execution_count": 21,
   "metadata": {
    "collapsed": false
   },
   "outputs": [
    {
     "data": {
      "text/html": [
       "<div>\n",
       "<table border=\"1\" class=\"dataframe\">\n",
       "  <thead>\n",
       "    <tr style=\"text-align: right;\">\n",
       "      <th></th>\n",
       "      <th>Train No.</th>\n",
       "      <th>train Name</th>\n",
       "      <th>islno</th>\n",
       "      <th>station Code</th>\n",
       "      <th>Station Name</th>\n",
       "      <th>Arrival time</th>\n",
       "      <th>Departure time</th>\n",
       "      <th>Distance</th>\n",
       "      <th>Source Station Code</th>\n",
       "      <th>source Station Name</th>\n",
       "      <th>Destination station Code</th>\n",
       "      <th>Destination Station Name</th>\n",
       "    </tr>\n",
       "  </thead>\n",
       "  <tbody>\n",
       "    <tr>\n",
       "      <th>0</th>\n",
       "      <td>'00851'</td>\n",
       "      <td>BNC SUVIDHA SPL</td>\n",
       "      <td>1</td>\n",
       "      <td>BBS</td>\n",
       "      <td>BHUBANESWAR</td>\n",
       "      <td>'00:00:00'</td>\n",
       "      <td>'22:50:00'</td>\n",
       "      <td>0</td>\n",
       "      <td>BBS</td>\n",
       "      <td>BHUBANESWAR</td>\n",
       "      <td>BNC</td>\n",
       "      <td>BANGALORE CANT</td>\n",
       "    </tr>\n",
       "    <tr>\n",
       "      <th>1</th>\n",
       "      <td>'00851'</td>\n",
       "      <td>BNC SUVIDHA SPL</td>\n",
       "      <td>2</td>\n",
       "      <td>BAM</td>\n",
       "      <td>BRAHMAPUR</td>\n",
       "      <td>'01:10:00'</td>\n",
       "      <td>'01:12:00'</td>\n",
       "      <td>166</td>\n",
       "      <td>BBS</td>\n",
       "      <td>BHUBANESWAR</td>\n",
       "      <td>BNC</td>\n",
       "      <td>BANGALORE CANT</td>\n",
       "    </tr>\n",
       "    <tr>\n",
       "      <th>2</th>\n",
       "      <td>'00851'</td>\n",
       "      <td>BNC SUVIDHA SPL</td>\n",
       "      <td>3</td>\n",
       "      <td>VSKP</td>\n",
       "      <td>VISAKHAPATNAM</td>\n",
       "      <td>'05:10:00'</td>\n",
       "      <td>'05:30:00'</td>\n",
       "      <td>443</td>\n",
       "      <td>BBS</td>\n",
       "      <td>BHUBANESWAR</td>\n",
       "      <td>BNC</td>\n",
       "      <td>BANGALORE CANT</td>\n",
       "    </tr>\n",
       "    <tr>\n",
       "      <th>3</th>\n",
       "      <td>'00851'</td>\n",
       "      <td>BNC SUVIDHA SPL</td>\n",
       "      <td>4</td>\n",
       "      <td>BZA</td>\n",
       "      <td>VIJAYAWADA JN</td>\n",
       "      <td>'11:10:00'</td>\n",
       "      <td>'11:20:00'</td>\n",
       "      <td>793</td>\n",
       "      <td>BBS</td>\n",
       "      <td>BHUBANESWAR</td>\n",
       "      <td>BNC</td>\n",
       "      <td>BANGALORE CANT</td>\n",
       "    </tr>\n",
       "    <tr>\n",
       "      <th>4</th>\n",
       "      <td>'00851'</td>\n",
       "      <td>BNC SUVIDHA SPL</td>\n",
       "      <td>5</td>\n",
       "      <td>RU</td>\n",
       "      <td>RENIGUNTA JN</td>\n",
       "      <td>'16:42:00'</td>\n",
       "      <td>'16:52:00'</td>\n",
       "      <td>1169</td>\n",
       "      <td>BBS</td>\n",
       "      <td>BHUBANESWAR</td>\n",
       "      <td>BNC</td>\n",
       "      <td>BANGALORE CANT</td>\n",
       "    </tr>\n",
       "  </tbody>\n",
       "</table>\n",
       "</div>"
      ],
      "text/plain": [
       "  Train No.       train Name  islno station Code     Station Name  \\\n",
       "0   '00851'  BNC SUVIDHA SPL      1         BBS   BHUBANESWAR       \n",
       "1   '00851'  BNC SUVIDHA SPL      2         BAM   BRAHMAPUR         \n",
       "2   '00851'  BNC SUVIDHA SPL      3         VSKP  VISAKHAPATNAM     \n",
       "3   '00851'  BNC SUVIDHA SPL      4         BZA   VIJAYAWADA JN     \n",
       "4   '00851'  BNC SUVIDHA SPL      5         RU    RENIGUNTA JN      \n",
       "\n",
       "  Arrival time Departure time  Distance Source Station Code  \\\n",
       "0   '00:00:00'     '22:50:00'         0                BBS    \n",
       "1   '01:10:00'     '01:12:00'       166                BBS    \n",
       "2   '05:10:00'     '05:30:00'       443                BBS    \n",
       "3   '11:10:00'     '11:20:00'       793                BBS    \n",
       "4   '16:42:00'     '16:52:00'      1169                BBS    \n",
       "\n",
       "  source Station Name Destination station Code Destination Station Name  \n",
       "0     BHUBANESWAR                         BNC           BANGALORE CANT   \n",
       "1     BHUBANESWAR                         BNC           BANGALORE CANT   \n",
       "2     BHUBANESWAR                         BNC           BANGALORE CANT   \n",
       "3     BHUBANESWAR                         BNC           BANGALORE CANT   \n",
       "4     BHUBANESWAR                         BNC           BANGALORE CANT   "
      ]
     },
     "execution_count": 21,
     "metadata": {},
     "output_type": "execute_result"
    }
   ],
   "source": [
    "sns.set_context(\"poster\")\n",
    "# Show some rows\n",
    "df.head()"
   ]
  },
  {
   "cell_type": "code",
   "execution_count": 4,
   "metadata": {
    "collapsed": false
   },
   "outputs": [
    {
     "data": {
      "text/plain": [
       "Index([u'Train No.', u'train Name', u'islno', u'station Code', u'Station Name',\n",
       "       u'Arrival time', u'Departure time', u'Distance', u'Source Station Code',\n",
       "       u'source Station Name', u'Destination station Code',\n",
       "       u'Destination Station Name'],\n",
       "      dtype='object')"
      ]
     },
     "execution_count": 4,
     "metadata": {},
     "output_type": "execute_result"
    }
   ],
   "source": [
    "df.columns"
   ]
  },
  {
   "cell_type": "code",
   "execution_count": 22,
   "metadata": {
    "collapsed": false
   },
   "outputs": [],
   "source": [
    "# Convert time columns to datetime objects\n",
    "df[u'Arrival time'] = pd.to_datetime(df[u'Arrival time'])\n",
    "df[u'Departure time'] = pd.to_datetime(df[u'Departure time'])"
   ]
  },
  {
   "cell_type": "code",
   "execution_count": 23,
   "metadata": {
    "collapsed": false
   },
   "outputs": [
    {
     "data": {
      "text/html": [
       "<div>\n",
       "<table border=\"1\" class=\"dataframe\">\n",
       "  <thead>\n",
       "    <tr style=\"text-align: right;\">\n",
       "      <th></th>\n",
       "      <th>Train No.</th>\n",
       "      <th>train Name</th>\n",
       "      <th>islno</th>\n",
       "      <th>station Code</th>\n",
       "      <th>Station Name</th>\n",
       "      <th>Arrival time</th>\n",
       "      <th>Departure time</th>\n",
       "      <th>Distance</th>\n",
       "      <th>Source Station Code</th>\n",
       "      <th>source Station Name</th>\n",
       "      <th>Destination station Code</th>\n",
       "      <th>Destination Station Name</th>\n",
       "    </tr>\n",
       "  </thead>\n",
       "  <tbody>\n",
       "    <tr>\n",
       "      <th>0</th>\n",
       "      <td>'00851'</td>\n",
       "      <td>BNC SUVIDHA SPL</td>\n",
       "      <td>1</td>\n",
       "      <td>BBS</td>\n",
       "      <td>BHUBANESWAR</td>\n",
       "      <td>2015-08-10 00:00:00</td>\n",
       "      <td>2015-08-10 22:50:00</td>\n",
       "      <td>0</td>\n",
       "      <td>BBS</td>\n",
       "      <td>BHUBANESWAR</td>\n",
       "      <td>BNC</td>\n",
       "      <td>BANGALORE CANT</td>\n",
       "    </tr>\n",
       "    <tr>\n",
       "      <th>1</th>\n",
       "      <td>'00851'</td>\n",
       "      <td>BNC SUVIDHA SPL</td>\n",
       "      <td>2</td>\n",
       "      <td>BAM</td>\n",
       "      <td>BRAHMAPUR</td>\n",
       "      <td>2015-08-10 01:10:00</td>\n",
       "      <td>2015-08-10 01:12:00</td>\n",
       "      <td>166</td>\n",
       "      <td>BBS</td>\n",
       "      <td>BHUBANESWAR</td>\n",
       "      <td>BNC</td>\n",
       "      <td>BANGALORE CANT</td>\n",
       "    </tr>\n",
       "    <tr>\n",
       "      <th>2</th>\n",
       "      <td>'00851'</td>\n",
       "      <td>BNC SUVIDHA SPL</td>\n",
       "      <td>3</td>\n",
       "      <td>VSKP</td>\n",
       "      <td>VISAKHAPATNAM</td>\n",
       "      <td>2015-08-10 05:10:00</td>\n",
       "      <td>2015-08-10 05:30:00</td>\n",
       "      <td>443</td>\n",
       "      <td>BBS</td>\n",
       "      <td>BHUBANESWAR</td>\n",
       "      <td>BNC</td>\n",
       "      <td>BANGALORE CANT</td>\n",
       "    </tr>\n",
       "    <tr>\n",
       "      <th>3</th>\n",
       "      <td>'00851'</td>\n",
       "      <td>BNC SUVIDHA SPL</td>\n",
       "      <td>4</td>\n",
       "      <td>BZA</td>\n",
       "      <td>VIJAYAWADA JN</td>\n",
       "      <td>2015-08-10 11:10:00</td>\n",
       "      <td>2015-08-10 11:20:00</td>\n",
       "      <td>793</td>\n",
       "      <td>BBS</td>\n",
       "      <td>BHUBANESWAR</td>\n",
       "      <td>BNC</td>\n",
       "      <td>BANGALORE CANT</td>\n",
       "    </tr>\n",
       "    <tr>\n",
       "      <th>4</th>\n",
       "      <td>'00851'</td>\n",
       "      <td>BNC SUVIDHA SPL</td>\n",
       "      <td>5</td>\n",
       "      <td>RU</td>\n",
       "      <td>RENIGUNTA JN</td>\n",
       "      <td>2015-08-10 16:42:00</td>\n",
       "      <td>2015-08-10 16:52:00</td>\n",
       "      <td>1169</td>\n",
       "      <td>BBS</td>\n",
       "      <td>BHUBANESWAR</td>\n",
       "      <td>BNC</td>\n",
       "      <td>BANGALORE CANT</td>\n",
       "    </tr>\n",
       "  </tbody>\n",
       "</table>\n",
       "</div>"
      ],
      "text/plain": [
       "  Train No.       train Name  islno station Code     Station Name  \\\n",
       "0   '00851'  BNC SUVIDHA SPL      1         BBS   BHUBANESWAR       \n",
       "1   '00851'  BNC SUVIDHA SPL      2         BAM   BRAHMAPUR         \n",
       "2   '00851'  BNC SUVIDHA SPL      3         VSKP  VISAKHAPATNAM     \n",
       "3   '00851'  BNC SUVIDHA SPL      4         BZA   VIJAYAWADA JN     \n",
       "4   '00851'  BNC SUVIDHA SPL      5         RU    RENIGUNTA JN      \n",
       "\n",
       "         Arrival time      Departure time  Distance Source Station Code  \\\n",
       "0 2015-08-10 00:00:00 2015-08-10 22:50:00         0                BBS    \n",
       "1 2015-08-10 01:10:00 2015-08-10 01:12:00       166                BBS    \n",
       "2 2015-08-10 05:10:00 2015-08-10 05:30:00       443                BBS    \n",
       "3 2015-08-10 11:10:00 2015-08-10 11:20:00       793                BBS    \n",
       "4 2015-08-10 16:42:00 2015-08-10 16:52:00      1169                BBS    \n",
       "\n",
       "  source Station Name Destination station Code Destination Station Name  \n",
       "0     BHUBANESWAR                         BNC           BANGALORE CANT   \n",
       "1     BHUBANESWAR                         BNC           BANGALORE CANT   \n",
       "2     BHUBANESWAR                         BNC           BANGALORE CANT   \n",
       "3     BHUBANESWAR                         BNC           BANGALORE CANT   \n",
       "4     BHUBANESWAR                         BNC           BANGALORE CANT   "
      ]
     },
     "execution_count": 23,
     "metadata": {},
     "output_type": "execute_result"
    }
   ],
   "source": [
    "df.head()"
   ]
  },
  {
   "cell_type": "markdown",
   "metadata": {},
   "source": [
    "##Distribution of Arrival and Departure Times\n",
    "Lets analyze the arrival and departure time distributions. As we can see from the plots below, both the times follow as similar distribution. What is interesting is that a majority of the trains arrive during the night (which is good as Indians love to travel during night)."
   ]
  },
  {
   "cell_type": "code",
   "execution_count": 28,
   "metadata": {
    "collapsed": false
   },
   "outputs": [
    {
     "data": {
      "text/plain": [
       "<matplotlib.text.Text at 0x21690c88>"
      ]
     },
     "execution_count": 28,
     "metadata": {},
     "output_type": "execute_result"
    },
    {
     "data": {
      "image/png": "[encoded data removed]",
      "text/plain": [
       "<matplotlib.figure.Figure at 0x1c2f2128>"
      ]
     },
     "metadata": {},
     "output_type": "display_data"
    }
   ],
   "source": [
    "fig, ax = plt.subplots(1,2, sharey=True)\n",
    "df[u'Arrival time'].map(lambda x: x.hour).hist(ax=ax[0], bins=24)\n",
    "df[u'Departure time'].map(lambda x: x.hour).hist(ax=ax[1], bins=24)\n",
    "ax[0].set_xlabel(\"Arrival Time\")\n",
    "ax[1].set_xlabel(\"Departure Time\")"
   ]
  },
  {
   "cell_type": "markdown",
   "metadata": {},
   "source": [
    "It would also be interesting to find out the distribution of the stoppage time at a station. \n",
    "$Stoppage\\_time = Departure\\_time - Arrival\\_time$"
   ]
  },
  {
   "cell_type": "code",
   "execution_count": 25,
   "metadata": {
    "collapsed": false
   },
   "outputs": [
    {
     "data": {
      "text/plain": [
       "<matplotlib.text.Text at 0x1c2d4390>"
      ]
     },
     "execution_count": 25,
     "metadata": {},
     "output_type": "execute_result"
    },
    {
     "data": {
      "image/png": "[encoded data removed]",
      "text/plain": [
       "<matplotlib.figure.Figure at 0x20fd9c50>"
      ]
     },
     "metadata": {},
     "output_type": "display_data"
    }
   ],
   "source": [
    "df[\"Stoppage\"] = (df[u'Departure time'] - df[u'Arrival time']).astype('timedelta64[m]') # Find stoppage time in minutes\n",
    "# Plot distribution of stoppage time\n",
    "df[\"Stoppage\"].hist()\n",
    "plt.xlabel(\"Stoppage Time\")"
   ]
  },
  {
   "cell_type": "markdown",
   "metadata": {},
   "source": [
    "This looks wierd. Stoppage time cannot be negative or more than 500 minutes (~8 hours). Let us remove these outlires and plot our distributions again. "
   ]
  },
  {
   "cell_type": "code",
   "execution_count": 26,
   "metadata": {
    "collapsed": false
   },
   "outputs": [
    {
     "data": {
      "text/plain": [
       "<matplotlib.text.Text at 0x2098f470>"
      ]
     },
     "execution_count": 26,
     "metadata": {},
     "output_type": "execute_result"
    },
    {
     "data": {
      "image/png": "[encoded data removed]",
      "text/plain": [
       "<matplotlib.figure.Figure at 0x1c410390>"
      ]
     },
     "metadata": {},
     "output_type": "display_data"
    }
   ],
   "source": [
    "df[\"Stoppage\"][(df[\"Stoppage\"]> 0) & (df[\"Stoppage\"] < 61)].hist() # Let us take that max stoppage time can be an hour. \n",
    "plt.xlabel(\"Stoppage Time\")"
   ]
  },
  {
   "cell_type": "markdown",
   "metadata": {},
   "source": [
    "This is better but still appears that most stoppage times are less than 30 minutes. So let us plot again in that range. "
   ]
  },
  {
   "cell_type": "code",
   "execution_count": 27,
   "metadata": {
    "collapsed": false
   },
   "outputs": [
    {
     "data": {
      "text/plain": [
       "<matplotlib.text.Text at 0x1c6e9dd8>"
      ]
     },
     "execution_count": 27,
     "metadata": {},
     "output_type": "execute_result"
    },
    {
     "data": {
      "image/png": "[encoded data removed]",
      "text/plain": [
       "<matplotlib.figure.Figure at 0x20873390>"
      ]
     },
     "metadata": {},
     "output_type": "display_data"
    }
   ],
   "source": [
    "df[\"Stoppage\"][(df[\"Stoppage\"]> 0) & (df[\"Stoppage\"] < 31)].hist(bins=30) # Let us take that max stoppage time can be an hour. \n",
    "plt.xlabel(\"Stoppage Time\")"
   ]
  },
  {
   "cell_type": "markdown",
   "metadata": {},
   "source": [
    "This is more informative. We see that most stoppage times are either 1 or 2 minutes or a multiple of 5 minutes. Makes a lot of sense. Now let us look filter the data to make it consist of the stoppage time in this range. "
   ]
  },
  {
   "cell_type": "code",
   "execution_count": 29,
   "metadata": {
    "collapsed": false
   },
   "outputs": [
    {
     "data": {
      "text/plain": [
       "<matplotlib.text.Text at 0x208de2e8>"
      ]
     },
     "execution_count": 29,
     "metadata": {},
     "output_type": "execute_result"
    },
    {
     "data": {
      "image/png": "[encoded data removed]",
      "text/plain": [
       "<matplotlib.figure.Figure at 0x22a012b0>"
      ]
     },
     "metadata": {},
     "output_type": "display_data"
    }
   ],
   "source": [
    "df_stoppage_30 = df[(df[\"Stoppage\"]> 0) & (df[\"Stoppage\"] < 31)] # Filter data between nice stoppage times\n",
    "# Plot data for this stoppage time range.\n",
    "fig, ax = plt.subplots(1,2, sharey=True)\n",
    "df_stoppage_30[u'Arrival time'].map(lambda x: x.hour).hist(ax=ax[0], bins=24)\n",
    "df_stoppage_30[u'Departure time'].map(lambda x: x.hour).hist(ax=ax[1], bins=24)\n",
    "ax[0].set_xlabel(\"Arrival Time\")\n",
    "ax[1].set_xlabel(\"Departure Time\")"
   ]
  },
  {
   "cell_type": "markdown",
   "metadata": {},
   "source": [
    "Aah, it looks like less trains arrive and depart during lunch hours around 1200-1500 Hours. Looks wierd but can also point to the fact that many trains run at night and travel short distances. This makes me think that we should look closely at the total distance per train. \n",
    "\n",
    "## Distance analysis\n",
    "\n",
    "Lets now analyze the total distance travelled by a train. This can be easily found by using the last value for each train. "
   ]
  },
  {
   "cell_type": "code",
   "execution_count": 34,
   "metadata": {
    "collapsed": false
   },
   "outputs": [],
   "source": [
    "# Total Number of stations of the train, last arrival time, first departure time, last distance, first station and last station.\n",
    "\n",
    "df_train_dist = df[[u'Train No.', u'station Code', u'Arrival time', u'Departure time',\n",
    "                    u'Distance', u'Source Station Code', u'Destination station Code']]\\\n",
    ".groupby(u'Train No.').agg({u'station Code': \"count\", u'Arrival time': \"last\",\n",
    "                                                               u'Departure time': \"first\", u'Distance': \"last\",\n",
    "                                                               u'Source Station Code': \"first\", u'Destination station Code': \"last\"})"
   ]
  },
  {
   "cell_type": "code",
   "execution_count": 48,
   "metadata": {
    "collapsed": false
   },
   "outputs": [
    {
     "data": {
      "text/html": [
       "<div>\n",
       "<table border=\"1\" class=\"dataframe\">\n",
       "  <thead>\n",
       "    <tr style=\"text-align: right;\">\n",
       "      <th></th>\n",
       "      <th>Distance</th>\n",
       "      <th>station Code</th>\n",
       "      <th>Source Station Code</th>\n",
       "      <th>Destination station Code</th>\n",
       "      <th>Arrival time</th>\n",
       "      <th>Departure time</th>\n",
       "    </tr>\n",
       "    <tr>\n",
       "      <th>Train No.</th>\n",
       "      <th></th>\n",
       "      <th></th>\n",
       "      <th></th>\n",
       "      <th></th>\n",
       "      <th></th>\n",
       "      <th></th>\n",
       "    </tr>\n",
       "  </thead>\n",
       "  <tbody>\n",
       "    <tr>\n",
       "      <th>'00851'</th>\n",
       "      <td>1511</td>\n",
       "      <td>7</td>\n",
       "      <td>BBS</td>\n",
       "      <td>BNC</td>\n",
       "      <td>2015-08-10 22:40:00</td>\n",
       "      <td>2015-08-10 22:50:00</td>\n",
       "    </tr>\n",
       "    <tr>\n",
       "      <th>'00852'</th>\n",
       "      <td>1511</td>\n",
       "      <td>7</td>\n",
       "      <td>BNC</td>\n",
       "      <td>BBS</td>\n",
       "      <td>2015-08-10 01:45:00</td>\n",
       "      <td>2015-08-10 01:00:00</td>\n",
       "    </tr>\n",
       "    <tr>\n",
       "      <th>'01081'</th>\n",
       "      <td>436</td>\n",
       "      <td>8</td>\n",
       "      <td>DR</td>\n",
       "      <td>BSL</td>\n",
       "      <td>2015-08-10 05:00:00</td>\n",
       "      <td>2015-08-10 21:45:00</td>\n",
       "    </tr>\n",
       "    <tr>\n",
       "      <th>'01082'</th>\n",
       "      <td>436</td>\n",
       "      <td>8</td>\n",
       "      <td>BSL</td>\n",
       "      <td>DR</td>\n",
       "      <td>2015-08-10 16:20:00</td>\n",
       "      <td>2015-08-10 08:35:00</td>\n",
       "    </tr>\n",
       "    <tr>\n",
       "      <th>'01149'</th>\n",
       "      <td>117</td>\n",
       "      <td>4</td>\n",
       "      <td>BSL</td>\n",
       "      <td>CSN</td>\n",
       "      <td>2015-08-10 21:30:00</td>\n",
       "      <td>2015-08-10 18:35:00</td>\n",
       "    </tr>\n",
       "  </tbody>\n",
       "</table>\n",
       "</div>"
      ],
      "text/plain": [
       "           Distance  station Code Source Station Code  \\\n",
       "Train No.                                               \n",
       "'00851'        1511             7                BBS    \n",
       "'00852'        1511             7                BNC    \n",
       "'01081'         436             8                DR     \n",
       "'01082'         436             8                BSL    \n",
       "'01149'         117             4                BSL    \n",
       "\n",
       "          Destination station Code        Arrival time      Departure time  \n",
       "Train No.                                                                   \n",
       "'00851'                       BNC  2015-08-10 22:40:00 2015-08-10 22:50:00  \n",
       "'00852'                       BBS  2015-08-10 01:45:00 2015-08-10 01:00:00  \n",
       "'01081'                       BSL  2015-08-10 05:00:00 2015-08-10 21:45:00  \n",
       "'01082'                       DR   2015-08-10 16:20:00 2015-08-10 08:35:00  \n",
       "'01149'                       CSN  2015-08-10 21:30:00 2015-08-10 18:35:00  "
      ]
     },
     "execution_count": 48,
     "metadata": {},
     "output_type": "execute_result"
    }
   ],
   "source": [
    "df_train_dist.head()"
   ]
  },
  {
   "cell_type": "code",
   "execution_count": 40,
   "metadata": {
    "collapsed": false
   },
   "outputs": [
    {
     "data": {
      "text/plain": [
       "<matplotlib.text.Text at 0x26b26f98>"
      ]
     },
     "execution_count": 40,
     "metadata": {},
     "output_type": "execute_result"
    },
    {
     "data": {
      "image/png": "[encoded data removed]",
      "text/plain": [
       "<matplotlib.figure.Figure at 0x22d640b8>"
      ]
     },
     "metadata": {},
     "output_type": "display_data"
    }
   ],
   "source": [
    "# Let us plot the distribution of the distances as well as station codes, as well as arrival and departure times\n",
    "fig, ax = plt.subplots(2,2)\n",
    "df_train_dist[u'station Code'].hist(ax=ax[0][0], bins=range(df_train_dist[u'station Code'].max() + 1))\n",
    "df_train_dist[u'Distance'].hist(ax=ax[0][1], bins=50)\n",
    "ax[1][0].set_xlabel(\"Total Stations stopped\")\n",
    "ax[1][1].set_xlabel(\"Total Distance covered\")\n",
    "\n",
    "df_train_dist[u'Arrival time'].map(lambda x: x.hour).hist(ax=ax[1][0], bins=range(24))\n",
    "df_train_dist[u'Departure time'].map(lambda x: x.hour).hist(ax=ax[1][1], bins=range(24))\n",
    "ax[1][0].set_xlabel(\"Arrival Time\")\n",
    "ax[1][1].set_xlabel(\"Departure Time\")"
   ]
  },
  {
   "cell_type": "markdown",
   "metadata": {},
   "source": [
    "## Train specific analysis\n",
    "Ok this is insteresting. \n",
    "\n",
    "* We observe that majority of the trains cover 15-25 stations. \n",
    "* We also see that many trains are short distance trains travelling only 500-700 Kilometers. \n",
    "* Arrival time for many trains at their last stop is mostly during morning 0500 to afternoon 1300 hours and also a lot around midnight. \n",
    "* Departure time for a majority of the trains is actually mostly during night. \n",
    "\n",
    "Now the question is: Do trains on average having more stops run longer distance or not ? Let us try to answer this question.  \n",
    "\n"
   ]
  },
  {
   "cell_type": "code",
   "execution_count": 41,
   "metadata": {
    "collapsed": false
   },
   "outputs": [
    {
     "data": {
      "text/plain": [
       "<seaborn.axisgrid.FacetGrid at 0x23a7d860>"
      ]
     },
     "execution_count": 41,
     "metadata": {},
     "output_type": "execute_result"
    },
    {
     "data": {
      "image/png": "[encoded data removed]",
      "text/plain": [
       "<matplotlib.figure.Figure at 0x2318c6d8>"
      ]
     },
     "metadata": {},
     "output_type": "display_data"
    }
   ],
   "source": [
    "sns.lmplot(x=u'station Code', y=u'Distance', data=df_train_dist, x_estimator=np.mean)"
   ]
  },
  {
   "cell_type": "markdown",
   "metadata": {},
   "source": [
    "The regression plot shows that we cannot draw any conclusion regarding the relation between number of stopns and distance. We do see that low stops mean small distances but for larger distances we observe that this condition doesn't hold true. This can be attributed to the availability of both express as well as passenger trains for longer distances."
   ]
  },
  {
   "cell_type": "code",
   "execution_count": 49,
   "metadata": {
    "collapsed": false
   },
   "outputs": [
    {
     "data": {
      "text/html": [
       "<div>\n",
       "<table border=\"1\" class=\"dataframe\">\n",
       "  <thead>\n",
       "    <tr style=\"text-align: right;\">\n",
       "      <th></th>\n",
       "      <th>Distance</th>\n",
       "      <th>station Code</th>\n",
       "    </tr>\n",
       "  </thead>\n",
       "  <tbody>\n",
       "    <tr>\n",
       "      <th>count</th>\n",
       "      <td>2810.000000</td>\n",
       "      <td>2810.000000</td>\n",
       "    </tr>\n",
       "    <tr>\n",
       "      <th>mean</th>\n",
       "      <td>1073.904270</td>\n",
       "      <td>24.557295</td>\n",
       "    </tr>\n",
       "    <tr>\n",
       "      <th>std</th>\n",
       "      <td>770.358422</td>\n",
       "      <td>16.903673</td>\n",
       "    </tr>\n",
       "    <tr>\n",
       "      <th>min</th>\n",
       "      <td>14.000000</td>\n",
       "      <td>2.000000</td>\n",
       "    </tr>\n",
       "    <tr>\n",
       "      <th>25%</th>\n",
       "      <td>463.500000</td>\n",
       "      <td>13.000000</td>\n",
       "    </tr>\n",
       "    <tr>\n",
       "      <th>50%</th>\n",
       "      <td>810.000000</td>\n",
       "      <td>20.000000</td>\n",
       "    </tr>\n",
       "    <tr>\n",
       "      <th>75%</th>\n",
       "      <td>1585.000000</td>\n",
       "      <td>31.000000</td>\n",
       "    </tr>\n",
       "    <tr>\n",
       "      <th>max</th>\n",
       "      <td>4273.000000</td>\n",
       "      <td>128.000000</td>\n",
       "    </tr>\n",
       "  </tbody>\n",
       "</table>\n",
       "</div>"
      ],
      "text/plain": [
       "          Distance  station Code\n",
       "count  2810.000000   2810.000000\n",
       "mean   1073.904270     24.557295\n",
       "std     770.358422     16.903673\n",
       "min      14.000000      2.000000\n",
       "25%     463.500000     13.000000\n",
       "50%     810.000000     20.000000\n",
       "75%    1585.000000     31.000000\n",
       "max    4273.000000    128.000000"
      ]
     },
     "execution_count": 49,
     "metadata": {},
     "output_type": "execute_result"
    }
   ],
   "source": [
    "# Lets us see what are some general statistics of the distances and the number of stops. \n",
    "df_train_dist.describe()"
   ]
  },
  {
   "cell_type": "markdown",
   "metadata": {},
   "source": [
    "We observe that 50% of the trains travel less than 810 Km as well as have less than 20 stops. Maximum distance travelled by a train is 4273 Km and maximum stoppages are 128, both of which are very high numbers. "
   ]
  },
  {
   "cell_type": "markdown",
   "metadata": {},
   "source": [
    "## Analysis of Stations\n",
    "\n",
    "Let us look at which stations are popular. \n"
   ]
  },
  {
   "cell_type": "code",
   "execution_count": 56,
   "metadata": {
    "collapsed": false
   },
   "outputs": [
    {
     "data": {
      "text/html": [
       "<div>\n",
       "<table border=\"1\" class=\"dataframe\">\n",
       "  <thead>\n",
       "    <tr style=\"text-align: right;\">\n",
       "      <th></th>\n",
       "      <th>Train No.</th>\n",
       "    </tr>\n",
       "    <tr>\n",
       "      <th>Station Name</th>\n",
       "      <th></th>\n",
       "    </tr>\n",
       "  </thead>\n",
       "  <tbody>\n",
       "    <tr>\n",
       "      <th>VIJAYAWADA JN</th>\n",
       "      <td>313</td>\n",
       "    </tr>\n",
       "    <tr>\n",
       "      <th>VADODARA JN</th>\n",
       "      <td>298</td>\n",
       "    </tr>\n",
       "    <tr>\n",
       "      <th>KANPUR CENTRAL</th>\n",
       "      <td>283</td>\n",
       "    </tr>\n",
       "    <tr>\n",
       "      <th>SURAT</th>\n",
       "      <td>267</td>\n",
       "    </tr>\n",
       "    <tr>\n",
       "      <th>ITARSI JN</th>\n",
       "      <td>262</td>\n",
       "    </tr>\n",
       "    <tr>\n",
       "      <th>AHMEDABAD JN</th>\n",
       "      <td>255</td>\n",
       "    </tr>\n",
       "    <tr>\n",
       "      <th>KALYAN JN</th>\n",
       "      <td>254</td>\n",
       "    </tr>\n",
       "    <tr>\n",
       "      <th>BHUSAVAL JN</th>\n",
       "      <td>248</td>\n",
       "    </tr>\n",
       "    <tr>\n",
       "      <th>NAGPUR</th>\n",
       "      <td>243</td>\n",
       "    </tr>\n",
       "    <tr>\n",
       "      <th>LUCKNOW NR</th>\n",
       "      <td>239</td>\n",
       "    </tr>\n",
       "    <tr>\n",
       "      <th>NEW DELHI</th>\n",
       "      <td>239</td>\n",
       "    </tr>\n",
       "    <tr>\n",
       "      <th>MUGHAL SARAI JN</th>\n",
       "      <td>233</td>\n",
       "    </tr>\n",
       "    <tr>\n",
       "      <th>BHOPAL  JN</th>\n",
       "      <td>232</td>\n",
       "    </tr>\n",
       "    <tr>\n",
       "      <th>HOWRAH JN</th>\n",
       "      <td>230</td>\n",
       "    </tr>\n",
       "    <tr>\n",
       "      <th>JHANSI JN</th>\n",
       "      <td>217</td>\n",
       "    </tr>\n",
       "    <tr>\n",
       "      <th>BHUBANESWAR</th>\n",
       "      <td>210</td>\n",
       "    </tr>\n",
       "    <tr>\n",
       "      <th>PUNE JN</th>\n",
       "      <td>208</td>\n",
       "    </tr>\n",
       "    <tr>\n",
       "      <th>AMBALA CANT JN</th>\n",
       "      <td>206</td>\n",
       "    </tr>\n",
       "    <tr>\n",
       "      <th>VARANASI JN</th>\n",
       "      <td>201</td>\n",
       "    </tr>\n",
       "    <tr>\n",
       "      <th>VISAKHAPATNAM</th>\n",
       "      <td>201</td>\n",
       "    </tr>\n",
       "  </tbody>\n",
       "</table>\n",
       "</div>"
      ],
      "text/plain": [
       "                 Train No.\n",
       "Station Name              \n",
       "VIJAYAWADA JN          313\n",
       "VADODARA JN            298\n",
       "KANPUR CENTRAL         283\n",
       "SURAT                  267\n",
       "ITARSI JN              262\n",
       "AHMEDABAD JN           255\n",
       "KALYAN JN              254\n",
       "BHUSAVAL JN            248\n",
       "NAGPUR                 243\n",
       "LUCKNOW NR             239\n",
       "NEW DELHI              239\n",
       "MUGHAL SARAI JN        233\n",
       "BHOPAL  JN             232\n",
       "HOWRAH JN              230\n",
       "JHANSI JN              217\n",
       "BHUBANESWAR            210\n",
       "PUNE JN                208\n",
       "AMBALA CANT JN         206\n",
       "VARANASI JN            201\n",
       "VISAKHAPATNAM          201"
      ]
     },
     "execution_count": 56,
     "metadata": {},
     "output_type": "execute_result"
    }
   ],
   "source": [
    "df[[u'Train No.', u'Station Name']].groupby(u'Station Name').count().sort(u'Train No.', ascending=False).head(20)"
   ]
  },
  {
   "cell_type": "markdown",
   "metadata": {},
   "source": [
    "Looks like Vijaywada is the station where maximum trains have a stoppage. I am upset not to see my place Allahabad in the top 20 list. Neverthless, let us plot the distribution of these stoppages. "
   ]
  },
  {
   "cell_type": "code",
   "execution_count": 66,
   "metadata": {
    "collapsed": false
   },
   "outputs": [
    {
     "data": {
      "text/plain": [
       "<matplotlib.text.Text at 0x2c7f0a58>"
      ]
     },
     "execution_count": 66,
     "metadata": {},
     "output_type": "execute_result"
    },
    {
     "data": {
      "image/png": "[encoded data removed]",
      "text/plain": [
       "<matplotlib.figure.Figure at 0x2a641518>"
      ]
     },
     "metadata": {},
     "output_type": "display_data"
    }
   ],
   "source": [
    "df[[u'Train No.', u'Station Name']].groupby(u'Station Name').count().hist(bins=range(1,320,2), log=True)\n",
    "plt.xlabel(\"Number of trains stopping\")\n",
    "plt.ylabel(\"Number of stations\")"
   ]
  },
  {
   "cell_type": "markdown",
   "metadata": {},
   "source": [
    "Looks like very few stations have a high volume of trains stopping. Most stations see close to 5 trains. \n",
    "Let us now look at some train statistics like:\n",
    "    \n",
    "* Trains with maximum stops, I would personally avoid these trains. \n",
    "* Trains which travel maximum distance, if they take less stops I would prefer these."
   ]
  },
  {
   "cell_type": "code",
   "execution_count": 67,
   "metadata": {
    "collapsed": false
   },
   "outputs": [
    {
     "data": {
      "text/html": [
       "<div>\n",
       "<table border=\"1\" class=\"dataframe\">\n",
       "  <thead>\n",
       "    <tr style=\"text-align: right;\">\n",
       "      <th></th>\n",
       "      <th>Distance</th>\n",
       "      <th>station Code</th>\n",
       "      <th>Source Station Code</th>\n",
       "      <th>Destination station Code</th>\n",
       "      <th>Arrival time</th>\n",
       "      <th>Departure time</th>\n",
       "    </tr>\n",
       "    <tr>\n",
       "      <th>Train No.</th>\n",
       "      <th></th>\n",
       "      <th></th>\n",
       "      <th></th>\n",
       "      <th></th>\n",
       "      <th></th>\n",
       "      <th></th>\n",
       "    </tr>\n",
       "  </thead>\n",
       "  <tbody>\n",
       "    <tr>\n",
       "      <th>'59386'</th>\n",
       "      <td>1545</td>\n",
       "      <td>128</td>\n",
       "      <td>CWA</td>\n",
       "      <td>INDB</td>\n",
       "      <td>2015-08-10 08:10:00</td>\n",
       "      <td>2015-08-10 01:20:00</td>\n",
       "    </tr>\n",
       "    <tr>\n",
       "      <th>'13131'</th>\n",
       "      <td>1532</td>\n",
       "      <td>124</td>\n",
       "      <td>KOAA</td>\n",
       "      <td>ANVT</td>\n",
       "      <td>2015-08-10 11:40:00</td>\n",
       "      <td>2015-08-10 19:50:00</td>\n",
       "    </tr>\n",
       "    <tr>\n",
       "      <th>'11039'</th>\n",
       "      <td>1346</td>\n",
       "      <td>122</td>\n",
       "      <td>KOP</td>\n",
       "      <td>G</td>\n",
       "      <td>2015-08-10 20:15:00</td>\n",
       "      <td>2015-08-10 13:35:00</td>\n",
       "    </tr>\n",
       "    <tr>\n",
       "      <th>'13008'</th>\n",
       "      <td>1978</td>\n",
       "      <td>121</td>\n",
       "      <td>SGNR</td>\n",
       "      <td>HWH</td>\n",
       "      <td>2015-08-10 19:30:00</td>\n",
       "      <td>2015-08-10 23:50:00</td>\n",
       "    </tr>\n",
       "    <tr>\n",
       "      <th>'13007'</th>\n",
       "      <td>1978</td>\n",
       "      <td>112</td>\n",
       "      <td>HWH</td>\n",
       "      <td>SGNR</td>\n",
       "      <td>2015-08-10 07:00:00</td>\n",
       "      <td>2015-08-10 09:35:00</td>\n",
       "    </tr>\n",
       "    <tr>\n",
       "      <th>'13049'</th>\n",
       "      <td>1922</td>\n",
       "      <td>111</td>\n",
       "      <td>HWH</td>\n",
       "      <td>ASR</td>\n",
       "      <td>2015-08-10 10:15:00</td>\n",
       "      <td>2015-08-10 13:50:00</td>\n",
       "    </tr>\n",
       "    <tr>\n",
       "      <th>'13352'</th>\n",
       "      <td>2536</td>\n",
       "      <td>108</td>\n",
       "      <td>ALLP</td>\n",
       "      <td>DHN</td>\n",
       "      <td>2015-08-10 13:15:00</td>\n",
       "      <td>2015-08-10 06:00:00</td>\n",
       "    </tr>\n",
       "    <tr>\n",
       "      <th>'15018'</th>\n",
       "      <td>1713</td>\n",
       "      <td>106</td>\n",
       "      <td>GKP</td>\n",
       "      <td>LTT</td>\n",
       "      <td>2015-08-10 18:05:00</td>\n",
       "      <td>2015-08-10 17:50:00</td>\n",
       "    </tr>\n",
       "    <tr>\n",
       "      <th>'58112'</th>\n",
       "      <td>878</td>\n",
       "      <td>106</td>\n",
       "      <td>ITR</td>\n",
       "      <td>TATA</td>\n",
       "      <td>2015-08-10 00:05:00</td>\n",
       "      <td>2015-08-10 21:30:00</td>\n",
       "    </tr>\n",
       "    <tr>\n",
       "      <th>'13050'</th>\n",
       "      <td>1922</td>\n",
       "      <td>106</td>\n",
       "      <td>ASR</td>\n",
       "      <td>HWH</td>\n",
       "      <td>2015-08-10 15:45:00</td>\n",
       "      <td>2015-08-10 18:10:00</td>\n",
       "    </tr>\n",
       "  </tbody>\n",
       "</table>\n",
       "</div>"
      ],
      "text/plain": [
       "           Distance  station Code Source Station Code  \\\n",
       "Train No.                                               \n",
       "'59386'        1545           128                CWA    \n",
       "'13131'        1532           124                KOAA   \n",
       "'11039'        1346           122                KOP    \n",
       "'13008'        1978           121                SGNR   \n",
       "'13007'        1978           112                HWH    \n",
       "'13049'        1922           111                HWH    \n",
       "'13352'        2536           108                ALLP   \n",
       "'15018'        1713           106                GKP    \n",
       "'58112'         878           106                ITR    \n",
       "'13050'        1922           106                ASR    \n",
       "\n",
       "          Destination station Code        Arrival time      Departure time  \n",
       "Train No.                                                                   \n",
       "'59386'                       INDB 2015-08-10 08:10:00 2015-08-10 01:20:00  \n",
       "'13131'                       ANVT 2015-08-10 11:40:00 2015-08-10 19:50:00  \n",
       "'11039'                       G    2015-08-10 20:15:00 2015-08-10 13:35:00  \n",
       "'13008'                       HWH  2015-08-10 19:30:00 2015-08-10 23:50:00  \n",
       "'13007'                       SGNR 2015-08-10 07:00:00 2015-08-10 09:35:00  \n",
       "'13049'                       ASR  2015-08-10 10:15:00 2015-08-10 13:50:00  \n",
       "'13352'                       DHN  2015-08-10 13:15:00 2015-08-10 06:00:00  \n",
       "'15018'                       LTT  2015-08-10 18:05:00 2015-08-10 17:50:00  \n",
       "'58112'                       TATA 2015-08-10 00:05:00 2015-08-10 21:30:00  \n",
       "'13050'                       HWH  2015-08-10 15:45:00 2015-08-10 18:10:00  "
      ]
     },
     "execution_count": 67,
     "metadata": {},
     "output_type": "execute_result"
    }
   ],
   "source": [
    "df_train_dist.sort(u'station Code', ascending=False).head(10) # Top 10 trains with maximum number of stops"
   ]
  },
  {
   "cell_type": "code",
   "execution_count": 68,
   "metadata": {
    "collapsed": false
   },
   "outputs": [
    {
     "data": {
      "text/html": [
       "<div>\n",
       "<table border=\"1\" class=\"dataframe\">\n",
       "  <thead>\n",
       "    <tr style=\"text-align: right;\">\n",
       "      <th></th>\n",
       "      <th>Distance</th>\n",
       "      <th>station Code</th>\n",
       "      <th>Source Station Code</th>\n",
       "      <th>Destination station Code</th>\n",
       "      <th>Arrival time</th>\n",
       "      <th>Departure time</th>\n",
       "    </tr>\n",
       "    <tr>\n",
       "      <th>Train No.</th>\n",
       "      <th></th>\n",
       "      <th></th>\n",
       "      <th></th>\n",
       "      <th></th>\n",
       "      <th></th>\n",
       "      <th></th>\n",
       "    </tr>\n",
       "  </thead>\n",
       "  <tbody>\n",
       "    <tr>\n",
       "      <th>'15906'</th>\n",
       "      <td>4273</td>\n",
       "      <td>62</td>\n",
       "      <td>DBRG</td>\n",
       "      <td>CAPE</td>\n",
       "      <td>2015-08-10 09:50:00</td>\n",
       "      <td>2015-08-10 23:45:00</td>\n",
       "    </tr>\n",
       "    <tr>\n",
       "      <th>'15905'</th>\n",
       "      <td>4273</td>\n",
       "      <td>62</td>\n",
       "      <td>CAPE</td>\n",
       "      <td>DBRG</td>\n",
       "      <td>2015-08-10 07:15:00</td>\n",
       "      <td>2015-08-10 23:00:00</td>\n",
       "    </tr>\n",
       "    <tr>\n",
       "      <th>'16318'</th>\n",
       "      <td>3715</td>\n",
       "      <td>84</td>\n",
       "      <td>JAT</td>\n",
       "      <td>CAPE</td>\n",
       "      <td>2015-08-10 21:30:00</td>\n",
       "      <td>2015-08-10 09:05:00</td>\n",
       "    </tr>\n",
       "    <tr>\n",
       "      <th>'16317'</th>\n",
       "      <td>3714</td>\n",
       "      <td>72</td>\n",
       "      <td>CAPE</td>\n",
       "      <td>JAT</td>\n",
       "      <td>2015-08-10 13:10:00</td>\n",
       "      <td>2015-08-10 14:10:00</td>\n",
       "    </tr>\n",
       "    <tr>\n",
       "      <th>'06336'</th>\n",
       "      <td>3650</td>\n",
       "      <td>58</td>\n",
       "      <td>KCVL</td>\n",
       "      <td>GHY</td>\n",
       "      <td>2015-08-10 08:15:00</td>\n",
       "      <td>2015-08-10 12:00:00</td>\n",
       "    </tr>\n",
       "    <tr>\n",
       "      <th>'06335'</th>\n",
       "      <td>3650</td>\n",
       "      <td>58</td>\n",
       "      <td>GHY</td>\n",
       "      <td>KCVL</td>\n",
       "      <td>2015-08-10 22:30:00</td>\n",
       "      <td>2015-08-10 23:25:00</td>\n",
       "    </tr>\n",
       "    <tr>\n",
       "      <th>'16688'</th>\n",
       "      <td>3609</td>\n",
       "      <td>79</td>\n",
       "      <td>JAT</td>\n",
       "      <td>MAQ</td>\n",
       "      <td>2015-08-10 22:45:00</td>\n",
       "      <td>2015-08-10 13:40:00</td>\n",
       "    </tr>\n",
       "    <tr>\n",
       "      <th>'16687'</th>\n",
       "      <td>3607</td>\n",
       "      <td>63</td>\n",
       "      <td>MAQ</td>\n",
       "      <td>JAT</td>\n",
       "      <td>2015-08-10 13:10:00</td>\n",
       "      <td>2015-08-10 16:50:00</td>\n",
       "    </tr>\n",
       "    <tr>\n",
       "      <th>'12483'</th>\n",
       "      <td>3597</td>\n",
       "      <td>26</td>\n",
       "      <td>KCVL</td>\n",
       "      <td>ASR</td>\n",
       "      <td>2015-08-10 22:20:00</td>\n",
       "      <td>2015-08-10 09:20:00</td>\n",
       "    </tr>\n",
       "    <tr>\n",
       "      <th>'12484'</th>\n",
       "      <td>3597</td>\n",
       "      <td>26</td>\n",
       "      <td>ASR</td>\n",
       "      <td>KCVL</td>\n",
       "      <td>2015-08-10 17:45:00</td>\n",
       "      <td>2015-08-10 05:55:00</td>\n",
       "    </tr>\n",
       "  </tbody>\n",
       "</table>\n",
       "</div>"
      ],
      "text/plain": [
       "           Distance  station Code Source Station Code  \\\n",
       "Train No.                                               \n",
       "'15906'        4273            62                DBRG   \n",
       "'15905'        4273            62                CAPE   \n",
       "'16318'        3715            84                JAT    \n",
       "'16317'        3714            72                CAPE   \n",
       "'06336'        3650            58                KCVL   \n",
       "'06335'        3650            58                GHY    \n",
       "'16688'        3609            79                JAT    \n",
       "'16687'        3607            63                MAQ    \n",
       "'12483'        3597            26                KCVL   \n",
       "'12484'        3597            26                ASR    \n",
       "\n",
       "          Destination station Code        Arrival time      Departure time  \n",
       "Train No.                                                                   \n",
       "'15906'                       CAPE 2015-08-10 09:50:00 2015-08-10 23:45:00  \n",
       "'15905'                       DBRG 2015-08-10 07:15:00 2015-08-10 23:00:00  \n",
       "'16318'                       CAPE 2015-08-10 21:30:00 2015-08-10 09:05:00  \n",
       "'16317'                       JAT  2015-08-10 13:10:00 2015-08-10 14:10:00  \n",
       "'06336'                       GHY  2015-08-10 08:15:00 2015-08-10 12:00:00  \n",
       "'06335'                       KCVL 2015-08-10 22:30:00 2015-08-10 23:25:00  \n",
       "'16688'                       MAQ  2015-08-10 22:45:00 2015-08-10 13:40:00  \n",
       "'16687'                       JAT  2015-08-10 13:10:00 2015-08-10 16:50:00  \n",
       "'12483'                       ASR  2015-08-10 22:20:00 2015-08-10 09:20:00  \n",
       "'12484'                       KCVL 2015-08-10 17:45:00 2015-08-10 05:55:00  "
      ]
     },
     "execution_count": 68,
     "metadata": {},
     "output_type": "execute_result"
    }
   ],
   "source": [
    "df_train_dist.sort(u'Distance', ascending=False).head(10) # Top 10 trains with maximum distance"
   ]
  },
  {
   "cell_type": "code",
   "execution_count": 73,
   "metadata": {
    "collapsed": false
   },
   "outputs": [
    {
     "data": {
      "text/plain": [
       "<matplotlib.axes._subplots.AxesSubplot at 0x2dbe7438>"
      ]
     },
     "execution_count": 73,
     "metadata": {},
     "output_type": "execute_result"
    },
    {
     "data": {
      "image/png": "[encoded data removed]",
      "text/plain": [
       "<matplotlib.figure.Figure at 0x2d0f9390>"
      ]
     },
     "metadata": {},
     "output_type": "display_data"
    }
   ],
   "source": [
    "fig, ax = plt.subplots(1,2)\n",
    "sns.regplot(x=df_train_dist[u'Arrival time'].map(lambda x: x.hour), y=df_train_dist[u'Distance'], x_estimator=np.mean, ax=ax[0])\n",
    "sns.regplot(x=df_train_dist[u'Departure time'].map(lambda x: x.hour), y=df_train_dist[u'Distance'], x_estimator=np.mean, ax=ax[1])"
   ]
  },
  {
   "cell_type": "markdown",
   "metadata": {},
   "source": [
    "We see that departure and arrival time of a lot of long distance trains is during night around 0000 Hours, many long route trains arrive during late afternoons around 1500 hours and many long route trains leave early morning around 1000 Hours as well. Most medium distance trains arrive during the day"
   ]
  },
  {
   "cell_type": "code",
   "execution_count": null,
   "metadata": {
    "collapsed": true
   },
   "outputs": [],
   "source": []
  }
 ],
 "metadata": {
  "kernelspec": {
   "display_name": "Python 2",
   "language": "python",
   "name": "python2"
  },
  "language_info": {
   "codemirror_mode": {
    "name": "ipython",
    "version": 2
   },
   "file_extension": ".py",
   "mimetype": "text/x-python",
   "name": "python",
   "nbconvert_exporter": "python",
   "pygments_lexer": "ipython2",
   "version": "2.7.9"
  }
 },
 "nbformat": 4,
 "nbformat_minor": 0
}

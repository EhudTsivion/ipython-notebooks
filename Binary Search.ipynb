{
 "cells": [
  {
   "cell_type": "code",
   "execution_count": 16,
   "metadata": {
    "collapsed": true
   },
   "outputs": [],
   "source": [
    "def binary_search(arr, low, high, x):\n",
    "    if low > high:\n",
    "        return -1\n",
    "    mid = (low+high)/2\n",
    "    print \"Searching in range: %s, %s\" % (low, high)\n",
    "    print \"arr[%s]=%s\" % (mid, arr[mid])\n",
    "    if arr[mid] == x:\n",
    "        return mid\n",
    "    if arr[mid] < x:\n",
    "        return binary_search(arr, mid+1, high, x)\n",
    "    return binary_search(arr, low, mid -1, x)"
   ]
  },
  {
   "cell_type": "code",
   "execution_count": 17,
   "metadata": {
    "collapsed": false
   },
   "outputs": [
    {
     "name": "stdout",
     "output_type": "stream",
     "text": [
      "Searching in range: 0, 9\n",
      "arr[4]=4\n",
      "Searching in range: 5, 9\n",
      "arr[7]=7\n",
      "Searching in range: 5, 6\n",
      "arr[5]=5\n"
     ]
    },
    {
     "data": {
      "text/plain": [
       "5"
      ]
     },
     "execution_count": 17,
     "metadata": {},
     "output_type": "execute_result"
    }
   ],
   "source": [
    "arr = range(10)\n",
    "binary_search(arr, 0, len(arr)-1, 5)"
   ]
  },
  {
   "cell_type": "code",
   "execution_count": 18,
   "metadata": {
    "collapsed": false
   },
   "outputs": [
    {
     "name": "stdout",
     "output_type": "stream",
     "text": [
      "Searching in range: 0, 1\n",
      "arr[0]=0\n",
      "Searching in range: 1, 1\n",
      "arr[1]=5\n"
     ]
    },
    {
     "data": {
      "text/plain": [
       "1"
      ]
     },
     "execution_count": 18,
     "metadata": {},
     "output_type": "execute_result"
    }
   ],
   "source": [
    "arr = [0,5]\n",
    "binary_search(arr, 0, len(arr)-1, 5)"
   ]
  },
  {
   "cell_type": "code",
   "execution_count": null,
   "metadata": {
    "collapsed": true
   },
   "outputs": [],
   "source": [
    "def reverse(arr):\n",
    "    for i in range()\n",
    "def rotate(arr, i):\n",
    "    "
   ]
  }
 ],
 "metadata": {
  "kernelspec": {
   "display_name": "Python 2",
   "language": "python",
   "name": "python2"
  },
  "language_info": {
   "codemirror_mode": {
    "name": "ipython",
    "version": 2
   },
   "file_extension": ".py",
   "mimetype": "text/x-python",
   "name": "python",
   "nbconvert_exporter": "python",
   "pygments_lexer": "ipython2",
   "version": "2.7.9"
  }
 },
 "nbformat": 4,
 "nbformat_minor": 0
}

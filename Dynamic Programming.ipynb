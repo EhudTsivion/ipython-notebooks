{
 "cells": [
  {
   "cell_type": "markdown",
   "metadata": {},
   "source": [
    "# Dynamic Programming\n",
    "\n",
    "Source: https://www.topcoder.com/community/data-science/data-science-tutorials/dynamic-programming-from-novice-to-advanced/"
   ]
  },
  {
   "cell_type": "markdown",
   "metadata": {},
   "source": [
    "## Sum of coins\n",
    "Given coins of value $V_1, V_2, ... V_n$ find min coins required to create a sum $S$"
   ]
  },
  {
   "cell_type": "code",
   "execution_count": 44,
   "metadata": {
    "collapsed": true
   },
   "outputs": [],
   "source": [
    "def wrapper(S, coins):\n",
    "    states = [(10000, set()) for k in range(S+1)]\n",
    "    states = [(10000, []) for k in range(S+1)]\n",
    "    return n_coins(S, coins, states)\n",
    "\n",
    "def n_coins(S, coins, states):\n",
    "    if S < 1:\n",
    "        return (10000, [])\n",
    "    if S in coins:\n",
    "        return (1, [S])\n",
    "    if S < min(coins):\n",
    "        return (10000, [])\n",
    "    if states[S][0] < 10000:\n",
    "        return states[S]\n",
    "    for c in coins:\n",
    "        print S, states[S]\n",
    "        if c > S:\n",
    "            continue\n",
    "        new_s = S - c\n",
    "        new_state = n_coins(new_s, coins, states)\n",
    "        new_state = (new_state[0]+1, new_state[1] + [c])\n",
    "        if new_state[0] < states[S][0]:\n",
    "            states[S] = new_state\n",
    "    return states[S]\n",
    "\n",
    "def n_coins_iter(S, coins):\n",
    "    states = [(10000, []) for k in range(S+1)]\n",
    "    states[0] = (0, [])\n",
    "    for s in range(1,S+1):\n",
    "        for c in coins:\n",
    "            if c <= s and states[s-c][0] < states[s][0]:\n",
    "                states[s] = (states[s-c][0] + 1, states[s-c][1] + [c])\n",
    "    print states, states[S]"
   ]
  },
  {
   "cell_type": "code",
   "execution_count": 46,
   "metadata": {
    "collapsed": false
   },
   "outputs": [
    {
     "name": "stdout",
     "output_type": "stream",
     "text": [
      "S: 10\n",
      "Coins(comma seperated): 9,8\n",
      "10 set([8, 9])\n",
      "10 (10000, [])\n",
      "10 (10000, [])\n",
      "(10000, [])\n",
      "[(0, []), (10000, []), (10000, []), (10000, []), (10000, []), (10000, []), (10000, []), (10000, []), (1, [8]), (1, [9]), (10000, [])] (10000, [])\n",
      "None\n"
     ]
    }
   ],
   "source": [
    "S = int(raw_input(\"S: \"))\n",
    "coins = set(int(k) for k in raw_input(\"Coins(comma seperated): \").split(','))\n",
    "if min(coins) < 1:\n",
    "    raise Exception(\"Coins should be positive values >= 1\")\n",
    "print S, coins\n",
    "print wrapper(S, coins)\n",
    "print n_coins_iter(S, coins)"
   ]
  },
  {
   "cell_type": "markdown",
   "metadata": {},
   "source": [
    "## Longest sequence problem\n",
    "Given a sequence of $N$ numbers – $A[1] , A[2] , …, A[N]$ . Find the length of the longest non-decreasing sequence.\n",
    "\n",
    "### Approach\n",
    "$len_{LSS}(A, 0, N) = min(\\{len_{LSS}(A, i, N-i) | i \\in [1,N]\\})$"
   ]
  },
  {
   "cell_type": "code",
   "execution_count": 95,
   "metadata": {
    "collapsed": false
   },
   "outputs": [],
   "source": [
    "def wrapper(arr):\n",
    "    states = [1]*len(arr)\n",
    "    return longest_sub(arr, len(arr)-1, states)\n",
    "\n",
    "def longest_sub(arr, i, states):\n",
    "    if i <= 0:\n",
    "        return 1\n",
    "    if states[i] > 1:\n",
    "        return states[i]\n",
    "    for j in range(i):\n",
    "        lj = longest_sub(arr, j, states)\n",
    "        if arr[j] <= arr[i]:\n",
    "            print j, i, states\n",
    "            states[i] = lj + 1\n",
    "        else:\n",
    "            states[i] = lj\n",
    "    return states[i]"
   ]
  },
  {
   "cell_type": "code",
   "execution_count": 96,
   "metadata": {
    "collapsed": false
   },
   "outputs": [
    {
     "name": "stdout",
     "output_type": "stream",
     "text": [
      "Array(comma seperated): 5, 3, 4, 8, 6, 7\n",
      "[5, 3, 4, 8, 6, 7]\n",
      "0 5 [1, 1, 1, 1, 1, 1]\n",
      "1 5 [1, 1, 1, 1, 1, 2]\n",
      "1 2 [1, 1, 1, 1, 1, 2]\n",
      "2 5 [1, 1, 2, 1, 1, 2]\n",
      "0 3 [1, 1, 2, 1, 1, 3]\n",
      "1 3 [1, 1, 2, 2, 1, 3]\n",
      "2 3 [1, 1, 2, 2, 1, 3]\n",
      "0 4 [1, 1, 2, 3, 1, 3]\n",
      "1 4 [1, 1, 2, 3, 2, 3]\n",
      "2 4 [1, 1, 2, 3, 2, 3]\n",
      "4 5 [1, 1, 2, 3, 3, 3]\n",
      "4\n"
     ]
    }
   ],
   "source": [
    "arr = [int(k) for k in raw_input(\"Array(comma seperated): \").split(',')]\n",
    "print arr\n",
    "print wrapper(arr)"
   ]
  },
  {
   "cell_type": "markdown",
   "metadata": {},
   "source": [
    "## Apples on a table\n",
    "A table composed of N x M cells, each having a certain quantity of apples, is given. You start from the upper-left corner. At each step you can go down or right one cell. Find the maximum number of apples you can collect."
   ]
  },
  {
   "cell_type": "code",
   "execution_count": 97,
   "metadata": {
    "collapsed": true
   },
   "outputs": [],
   "source": [
    "def wrapper(mat, N, M):\n",
    "    states = [[0 for c in range(M)] for r in range(N)]\n",
    "    return apples(mat,0,0,N,M, states)\n",
    "\n",
    "\n",
    "def apples(mat,i,j,N,M, states):\n",
    "    if i >= N or j >= M:\n",
    "        return 0\n",
    "    if states[i][j] > 0:\n",
    "        return states[i][j]\n",
    "    states[i][j] = mat[i][j] + max([apples(mat,i+1,j,N,M, states), apples(mat,i,j+1,N,M, states)])\n",
    "    return states[i][j]"
   ]
  },
  {
   "cell_type": "code",
   "execution_count": 99,
   "metadata": {
    "collapsed": false
   },
   "outputs": [
    {
     "name": "stdout",
     "output_type": "stream",
     "text": [
      "Array(comma seperated): 1,2,3,4,5,6\n",
      "N, M (comma seperated): 2,3\n",
      "[[1, 2, 3], [3, 4, 5]]\n"
     ]
    },
    {
     "data": {
      "text/plain": [
       "13"
      ]
     },
     "execution_count": 99,
     "metadata": {},
     "output_type": "execute_result"
    }
   ],
   "source": [
    "arr = [int(k) for k in raw_input(\"Array(comma seperated): \").split(',')]\n",
    "N, M = [int(k) for k in raw_input(\"N, M (comma seperated): \").split(',')]\n",
    "mat = [arr[i*N:i*N+M] for i in range(N)]\n",
    "print mat\n",
    "wrapper(mat, N, M)"
   ]
  },
  {
   "cell_type": "code",
   "execution_count": null,
   "metadata": {
    "collapsed": true
   },
   "outputs": [],
   "source": []
  }
 ],
 "metadata": {
  "kernelspec": {
   "display_name": "Python 2",
   "language": "python",
   "name": "python2"
  },
  "language_info": {
   "codemirror_mode": {
    "name": "ipython",
    "version": 2
   },
   "file_extension": ".py",
   "mimetype": "text/x-python",
   "name": "python",
   "nbconvert_exporter": "python",
   "pygments_lexer": "ipython2",
   "version": "2.7.10"
  }
 },
 "nbformat": 4,
 "nbformat_minor": 0
}
